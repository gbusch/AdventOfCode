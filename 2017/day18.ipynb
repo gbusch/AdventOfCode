{
 "cells": [
  {
   "cell_type": "code",
   "execution_count": null,
   "metadata": {},
   "outputs": [],
   "source": []
  },
  {
   "cell_type": "code",
   "execution_count": 15,
   "metadata": {},
   "outputs": [],
   "source": []
  },
  {
   "cell_type": "code",
   "execution_count": 41,
   "metadata": {},
   "outputs": [
    {
     "name": "stdout",
     "output_type": "stream",
     "text": [
      "recovered: 8600\n"
     ]
    }
   ],
   "source": [
    "with open(\"day18_inp.dat\", \"r\") as f:\n",
    "    cmds = f.readlines()\n",
    "\n",
    "regs = {}\n",
    "sound = 0    \n",
    "    \n",
    "cmd = 0\n",
    "while (cmd>=0) and (cmd<len(cmds)):\n",
    "    c = cmds[cmd].strip().split(' ')\n",
    "    #print(c)\n",
    "    action = c[0]\n",
    "    reg = c[1]\n",
    "    if reg not in regs:\n",
    "        regs[reg] = 0\n",
    "    if len(c)>2:\n",
    "        if c[2].isalpha():\n",
    "            num = regs[c[2]]\n",
    "        else:\n",
    "            num = int(c[2])\n",
    "    if action == \"snd\":\n",
    "        sound = regs[reg]\n",
    "    elif action == \"set\":\n",
    "        regs[reg] = num\n",
    "    elif action == \"add\":\n",
    "        regs[reg] += num\n",
    "    elif action == \"mul\":\n",
    "        regs[reg] *= num\n",
    "    elif action == \"mod\":\n",
    "        regs[reg] %= num\n",
    "    elif (action == \"rcv\") and (regs[reg] != 0):\n",
    "        print(\"recovered: {}\".format(sound))\n",
    "        break\n",
    "    if (action == \"jgz\") and (regs[reg] > 0):\n",
    "        cmd += num\n",
    "    else:\n",
    "        cmd += 1"
   ]
  },
  {
   "cell_type": "code",
   "execution_count": null,
   "metadata": {},
   "outputs": [],
   "source": []
  }
 ],
 "metadata": {
  "kernelspec": {
   "display_name": "Python 3",
   "language": "python",
   "name": "python3"
  },
  "language_info": {
   "codemirror_mode": {
    "name": "ipython",
    "version": 3
   },
   "file_extension": ".py",
   "mimetype": "text/x-python",
   "name": "python",
   "nbconvert_exporter": "python",
   "pygments_lexer": "ipython3",
   "version": "3.6.6"
  }
 },
 "nbformat": 4,
 "nbformat_minor": 2
}
