{
 "cells": [
  {
   "cell_type": "markdown",
   "metadata": {},
   "source": [
    "# Day 8: I Heard You Like Registers\n",
    "\n",
    "## Part One\n",
    "\n",
    "You receive a signal directly from the CPU. Because of your recent assistance with jump instructions, it would like you to compute the result of a series of unusual register instructions.\n",
    "\n",
    "Each instruction consists of several parts: the register to modify, whether to increase or decrease that register's value, the amount by which to increase or decrease it, and a condition. If the condition fails, skip the instruction without modifying the register. The registers all start at 0. The instructions look like this:\n",
    "\n",
    "* b inc 5 if a > 1\n",
    "* a inc 1 if b < 5\n",
    "* c dec -10 if a >= 1\n",
    "* c inc -20 if c == 10\n",
    "\n",
    "These instructions would be processed as follows:\n",
    "\n",
    "* Because a starts at 0, it is not greater than 1, and so b is not modified.\n",
    "* a is increased by 1 (to 1) because b is less than 5 (it is 0).\n",
    "* c is decreased by -10 (to 10) because a is now greater than or equal to 1 (it is 1).\n",
    "* c is increased by -20 (to -10) because c is equal to 10.\n",
    "\n",
    "After this process, the largest value in any register is 1.\n",
    "\n",
    "You might also encounter <= (less than or equal to) or != (not equal to). However, the CPU doesn't have the bandwidth to tell you what all the registers are named, and leaves that to you to determine.\n",
    "\n",
    "What is the largest value in any register after completing the instructions in your puzzle input?"
   ]
  },
  {
   "cell_type": "code",
   "execution_count": 118,
   "metadata": {},
   "outputs": [],
   "source": [
    "def step(expr):\n",
    "    expr = expr.split()\n",
    "    if expr[0] not in reg: reg[expr[0]] = 0\n",
    "    if expr[4] not in reg: reg[expr[4]] = 0\n",
    "    cond = str(reg[expr[4]])+expr[5]+expr[6]\n",
    "    if eval(cond):\n",
    "        if expr[1] == 'inc':\n",
    "            reg[expr[0]] += int(expr[2])\n",
    "        elif expr[1] == 'dec':\n",
    "            reg[expr[0]] -= int(expr[2])"
   ]
  },
  {
   "cell_type": "code",
   "execution_count": 141,
   "metadata": {},
   "outputs": [],
   "source": [
    "reg = {}\n",
    "with open('day08_inp.dat', 'r') as f:\n",
    "    for line in f:\n",
    "        step(line)"
   ]
  },
  {
   "cell_type": "code",
   "execution_count": 142,
   "metadata": {},
   "outputs": [
    {
     "data": {
      "text/plain": [
       "{'oui': 6061,\n",
       " 'p': 2788,\n",
       " 'abh': -3051,\n",
       " 'g': -4108,\n",
       " 'kq': -4837,\n",
       " 'znl': -1978,\n",
       " 'z': -117,\n",
       " 'ey': 5509,\n",
       " 'tk': 2150,\n",
       " 'y': 1701,\n",
       " 'un': -3353,\n",
       " 'tx': -1033,\n",
       " 'id': 1854,\n",
       " 'h': -83,\n",
       " 'l': -525,\n",
       " 'ekl': 1739,\n",
       " 'oqg': -7750,\n",
       " 'lb': 3583,\n",
       " 'hpz': 2543,\n",
       " 'c': -3017,\n",
       " 'a': 2273,\n",
       " 'ehe': 2173,\n",
       " 'xj': -804,\n",
       " 'x': -5425}"
      ]
     },
     "execution_count": 142,
     "metadata": {},
     "output_type": "execute_result"
    }
   ],
   "source": [
    "reg"
   ]
  },
  {
   "cell_type": "code",
   "execution_count": 143,
   "metadata": {},
   "outputs": [
    {
     "data": {
      "text/plain": [
       "6061"
      ]
     },
     "execution_count": 143,
     "metadata": {},
     "output_type": "execute_result"
    }
   ],
   "source": [
    "max(reg.values())"
   ]
  },
  {
   "cell_type": "markdown",
   "metadata": {},
   "source": [
    "## Part Two\n",
    "\n",
    "To be safe, the CPU also needs to know the highest value held in any register during this process so that it can decide how much memory to allocate to these operations. For example, in the above instructions, the highest value ever held was 10 (in register c after the third instruction was evaluated)."
   ]
  },
  {
   "cell_type": "code",
   "execution_count": 146,
   "metadata": {},
   "outputs": [],
   "source": [
    "reg = {}\n",
    "maxreg = 0\n",
    "with open('day08_inp.dat', 'r') as f:\n",
    "    for line in f:\n",
    "        step(line)\n",
    "        if max(reg.values()) > maxreg: maxreg = max(reg.values())"
   ]
  },
  {
   "cell_type": "code",
   "execution_count": 147,
   "metadata": {},
   "outputs": [
    {
     "data": {
      "text/plain": [
       "6696"
      ]
     },
     "execution_count": 147,
     "metadata": {},
     "output_type": "execute_result"
    }
   ],
   "source": [
    "maxreg"
   ]
  },
  {
   "cell_type": "code",
   "execution_count": null,
   "metadata": {},
   "outputs": [],
   "source": []
  }
 ],
 "metadata": {
  "kernelspec": {
   "display_name": "Python 3",
   "language": "python",
   "name": "python3"
  },
  "language_info": {
   "codemirror_mode": {
    "name": "ipython",
    "version": 3
   },
   "file_extension": ".py",
   "mimetype": "text/x-python",
   "name": "python",
   "nbconvert_exporter": "python",
   "pygments_lexer": "ipython3",
   "version": "3.6.6"
  }
 },
 "nbformat": 4,
 "nbformat_minor": 2
}
