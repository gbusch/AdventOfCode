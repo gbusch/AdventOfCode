{
 "cells": [
  {
   "cell_type": "markdown",
   "metadata": {},
   "source": [
    "# Day 14: Disk Defragmentation\n",
    "\n",
    "## Part One\n",
    "\n",
    "Suddenly, a scheduled job activates the system's disk defragmenter. Were the situation different, you might sit and watch it for a while, but today, you just don't have that kind of time. It's soaking up valuable system resources that are needed elsewhere, and so the only option is to help it finish its task as soon as possible.\n",
    "\n",
    "The disk in question consists of a 128x128 grid; each square of the grid is either free or used. On this disk, the state of the grid is tracked by the bits in a sequence of knot hashes.\n",
    "\n",
    "A total of 128 knot hashes are calculated, each corresponding to a single row in the grid; each hash contains 128 bits which correspond to individual grid squares. Each bit of a hash indicates whether that square is free (0) or used (1).\n",
    "\n",
    "The hash inputs are a key string (your puzzle input), a dash, and a number from 0 to 127 corresponding to the row. For example, if your key string were flqrgnkx, then the first row would be given by the bits of the knot hash of flqrgnkx-0, the second row from the bits of the knot hash of flqrgnkx-1, and so on until the last row, flqrgnkx-127.\n",
    "\n",
    "The output of a knot hash is traditionally represented by 32 hexadecimal digits; each of these digits correspond to 4 bits, for a total of 4 * 32 = 128 bits. To convert to bits, turn each hexadecimal digit to its equivalent binary value, high-bit first: 0 becomes 0000, 1 becomes 0001, e becomes 1110, f becomes 1111, and so on; a hash that begins with a0c2017... in hexadecimal would begin with 10100000110000100000000101110000... in binary.\n",
    "\n",
    "Continuing this process, the first 8 rows and columns for key flqrgnkx appear as follows, using # to denote used squares, and . to denote free ones:\n",
    "\n",
    "##.#.#..-->\n",
    ".#.#.#.#   \n",
    "....#.#.   \n",
    "#.#.##.#   \n",
    ".##.#...   \n",
    "##..#..#   \n",
    ".#...#..   \n",
    "##.#.##.-->\n",
    "|      |   \n",
    "V      V   \n",
    "\n",
    "In this example, 8108 squares are used across the entire 128x128 grid.\n",
    "\n",
    "Given your actual key string, how many squares are used?\n",
    "\n",
    "Your puzzle answer was 8226.\n",
    "\n",
    "## Part Two\n",
    "\n",
    "Now, all the defragmenter needs to know is the number of regions. A region is a group of used squares that are all adjacent, not including diagonals. Every used square is in exactly one region: lone used squares form their own isolated regions, while several adjacent squares all count as a single region.\n",
    "\n",
    "In the example above, the following nine regions are visible, each marked with a distinct digit:\n",
    "\n",
    "11.2.3..-->\n",
    ".1.2.3.4   \n",
    "....5.6.   \n",
    "7.8.55.9   \n",
    ".88.5...   \n",
    "88..5..8   \n",
    ".8...8..   \n",
    "88.8.88.-->\n",
    "|      |   \n",
    "V      V   \n",
    "\n",
    "Of particular interest is the region marked 8; while it does not appear contiguous in this small view, all of the squares marked 8 are connected when considering the whole 128x128 grid. In total, in this example, 1242 regions are present.\n",
    "\n",
    "How many regions are present given your key string?"
   ]
  },
  {
   "cell_type": "code",
   "execution_count": 1,
   "metadata": {},
   "outputs": [],
   "source": [
    "import numpy as np"
   ]
  },
  {
   "cell_type": "code",
   "execution_count": 2,
   "metadata": {},
   "outputs": [],
   "source": [
    "def reverse(X, start, end):\n",
    "    if end >= len(X):\n",
    "        end = end%len(X)\n",
    "    if end >= start:\n",
    "        X[start:end] = np.flipud(X[start:end])\n",
    "        return X\n",
    "    else:\n",
    "        tmp = np.concatenate([X[start:], X[:end]])\n",
    "        tmp = np.flipud(tmp)\n",
    "        X[start:] = tmp[:(len(X)-start)]\n",
    "        X[:end] = tmp[(len(X)-start):]\n",
    "        return X"
   ]
  },
  {
   "cell_type": "code",
   "execution_count": 78,
   "metadata": {},
   "outputs": [],
   "source": [
    "def knothash(inp):\n",
    "    clist = np.arange(256)\n",
    "    inplen = np.array([ord(str(a)) for a in inp])\n",
    "    inplen = np.concatenate([inplen, np.array([17, 31, 73, 47, 23])])\n",
    "    \n",
    "    pos = 0\n",
    "    skip = 0\n",
    "    for r in range(64):\n",
    "        for length in inplen:\n",
    "            clist = reverse(clist, pos, pos+length)\n",
    "            pos = (pos + length + skip)%len(clist)\n",
    "            skip += 1\n",
    "    \n",
    "    densehash = []\n",
    "    for i in range(16):\n",
    "        densehash.append(np.bitwise_xor.reduce(clist[i*16:(i+1)*16]))\n",
    "        \n",
    "    hexdensehash = ''.join([format(d, '02x') for d in densehash])\n",
    "    bindensehash = ''.join([format(int(b, 16), '04b') for b in hexdensehash])\n",
    "    return bindensehash"
   ]
  },
  {
   "cell_type": "code",
   "execution_count": 100,
   "metadata": {},
   "outputs": [
    {
     "data": {
      "text/plain": [
       "array([[1., 1., 0., ..., 0., 0., 1.],\n",
       "       [0., 0., 0., ..., 0., 1., 0.],\n",
       "       [1., 1., 1., ..., 0., 1., 1.],\n",
       "       ...,\n",
       "       [1., 0., 1., ..., 0., 1., 1.],\n",
       "       [0., 1., 0., ..., 1., 1., 1.],\n",
       "       [0., 0., 0., ..., 0., 0., 1.]])"
      ]
     },
     "execution_count": 100,
     "metadata": {},
     "output_type": "execute_result"
    }
   ],
   "source": [
    "disk = np.ndarray((128,128))\n",
    "for row in range(128):\n",
    "    disk[row, :] = [int(x) for x in knothash('wenycdww-'+str(row))]\n",
    "disk"
   ]
  },
  {
   "cell_type": "code",
   "execution_count": 106,
   "metadata": {},
   "outputs": [
    {
     "name": "stdout",
     "output_type": "stream",
     "text": [
      "Part One: 8226\n"
     ]
    }
   ],
   "source": [
    "print(\"Part One: {}\".format(int(np.sum(disk))))"
   ]
  },
  {
   "cell_type": "code",
   "execution_count": 93,
   "metadata": {},
   "outputs": [],
   "source": [
    "from scipy import ndimage"
   ]
  },
  {
   "cell_type": "code",
   "execution_count": 102,
   "metadata": {},
   "outputs": [],
   "source": [
    "blobs, nblobs = ndimage.label(disk)"
   ]
  },
  {
   "cell_type": "code",
   "execution_count": 103,
   "metadata": {},
   "outputs": [
    {
     "data": {
      "text/plain": [
       "array([[   1,    1,    0, ...,    0,    0,   30],\n",
       "       [   0,    0,    0, ...,    0,   38,    0],\n",
       "       [  39,   39,   39, ...,    0,   38,   38],\n",
       "       ...,\n",
       "       [1099,    0, 1091, ...,    0, 1106, 1106],\n",
       "       [   0, 1107,    0, ..., 1106, 1106, 1106],\n",
       "       [   0,    0,    0, ...,    0,    0, 1106]], dtype=int32)"
      ]
     },
     "execution_count": 103,
     "metadata": {},
     "output_type": "execute_result"
    }
   ],
   "source": [
    "blobs"
   ]
  },
  {
   "cell_type": "code",
   "execution_count": 107,
   "metadata": {},
   "outputs": [
    {
     "name": "stdout",
     "output_type": "stream",
     "text": [
      "Part Two: 1128\n"
     ]
    }
   ],
   "source": [
    "print(\"Part Two: {}\".format(nblobs))"
   ]
  },
  {
   "cell_type": "code",
   "execution_count": null,
   "metadata": {},
   "outputs": [],
   "source": []
  }
 ],
 "metadata": {
  "kernelspec": {
   "display_name": "Python 3",
   "language": "python",
   "name": "python3"
  },
  "language_info": {
   "codemirror_mode": {
    "name": "ipython",
    "version": 3
   },
   "file_extension": ".py",
   "mimetype": "text/x-python",
   "name": "python",
   "nbconvert_exporter": "python",
   "pygments_lexer": "ipython3",
   "version": "3.6.6"
  }
 },
 "nbformat": 4,
 "nbformat_minor": 2
}
