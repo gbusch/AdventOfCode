{
 "cells": [
  {
   "cell_type": "markdown",
   "metadata": {},
   "source": [
    "# Day 10: Knot Hash\n",
    "\n",
    "## Part One\n",
    "\n",
    "You come across some programs that are trying to implement a software emulation of a hash based on knot-tying. The hash these programs are implementing isn't very strong, but you decide to help them anyway. You make a mental note to remind the Elves later not to invent their own cryptographic functions.\n",
    "\n",
    "This hash function simulates tying a knot in a circle of string with 256 marks on it. Based on the input to be hashed, the function repeatedly selects a span of string, brings the ends together, and gives the span a half-twist to reverse the order of the marks within it. After doing this many times, the order of the marks is used to build the resulting hash.\n",
    "\n",
    "  4--5   pinch   4  5           4   1\n",
    " /    \\  5,0,1  / \\/ \\  twist  / \\ / \\\n",
    "3      0  -->  3      0  -->  3   X   0\n",
    " \\    /         \\ /\\ /         \\ / \\ /\n",
    "  2--1           2  1           2   5\n",
    "  \n",
    "To achieve this, begin with a list of numbers from 0 to 255, a current position which begins at 0 (the first element in the list), a skip size (which starts at 0), and a sequence of lengths (your puzzle input). Then, for each length:\n",
    "\n",
    "Reverse the order of that length of elements in the list, starting with the element at the current position.\n",
    "Move the current position forward by that length plus the skip size.\n",
    "Increase the skip size by one.\n",
    "The list is circular; if the current position and the length try to reverse elements beyond the end of the list, the operation reverses using as many extra elements as it needs from the front of the list. If the current position moves past the end of the list, it wraps around to the front. Lengths larger than the size of the list are invalid.\n",
    "\n",
    "Here's an example using a smaller list:\n",
    "\n",
    "Suppose we instead only had a circular list containing five elements, 0, 1, 2, 3, 4, and were given input lengths of 3, 4, 1, 5.\n",
    "\n",
    "* The list begins as [0] 1 2 3 4 (where square brackets indicate the current position).\n",
    "* The first length, 3, selects ([0] 1 2) 3 4 (where parentheses indicate the sublist to be reversed).\n",
    "* After reversing that section (0 1 2 into 2 1 0), we get ([2] 1 0) 3 4.\n",
    "* Then, the current position moves forward by the length, 3, plus the skip size, 0: 2 1 0 [3] 4. Finally, the skip size increases to 1.\n",
    "* The second length, 4, selects a section which wraps: 2 1) 0 ([3] 4.\n",
    "* The sublist 3 4 2 1 is reversed to form 1 2 4 3: 4 3) 0 ([1] 2.\n",
    "* The current position moves forward by the length plus the skip size, a total of 5, causing it not to move because it wraps around: 4 3 0 [1] 2. The skip size increases to 2.\n",
    "* The third length, 1, selects a sublist of a single element, and so reversing it has no effect.\n",
    "* The current position moves forward by the length (1) plus the skip size (2): 4 [3] 0 1 2. The skip size increases to 3.\n",
    "* The fourth length, 5, selects every element starting with the second: 4) ([3] 0 1 2. Reversing this sublist (3 0 1 2 4 into 4 2 1 0 3) produces: 3) ([4] 2 1 0.\n",
    "* Finally, the current position moves forward by 8: 3 4 2 1 [0]. The skip size increases to 4.\n",
    "\n",
    "In this example, the first two numbers in the list end up being 3 and 4; to check the process, you can multiply them together to produce 12.\n",
    "\n",
    "However, you should instead use the standard list size of 256 (with values 0 to 255) and the sequence of lengths in your puzzle input. Once this process is complete, what is the result of multiplying the first two numbers in the list?"
   ]
  },
  {
   "cell_type": "code",
   "execution_count": 1,
   "metadata": {},
   "outputs": [],
   "source": [
    "import numpy as np"
   ]
  },
  {
   "cell_type": "code",
   "execution_count": 70,
   "metadata": {},
   "outputs": [],
   "source": [
    "def reverse(X, start, end):\n",
    "    if end >= len(X):\n",
    "        end = end%len(X)\n",
    "    if end >= start:\n",
    "        X[start:end] = np.flipud(X[start:end])\n",
    "        return X\n",
    "    else:\n",
    "        tmp = np.concatenate([X[start:], X[:end]])\n",
    "        tmp = np.flipud(tmp)\n",
    "        X[start:] = tmp[:(len(X)-start)]\n",
    "        X[:end] = tmp[(len(X)-start):]\n",
    "        return X"
   ]
  },
  {
   "cell_type": "code",
   "execution_count": 74,
   "metadata": {},
   "outputs": [
    {
     "name": "stdout",
     "output_type": "stream",
     "text": [
      "[  0   1   2   3   4   5   6   7   8   9  10  11  12  13  14  15  16  17\n",
      "  18  19  20  21  22  23  24  25  26  27  28  29  30  31  32  33  34  35\n",
      "  36  37  38  39  40  41  42  43  44  45  46  47  48  49  50  51  52  53\n",
      "  54  55  56  57  58  59  60  61  62  63  64  65  66  67  68  69  70  71\n",
      "  72  73  74  75  76  77  78  79  80  81  82  83  84  85  86  87  88  89\n",
      "  90  91  92  93  94  95  96  97  98  99 100 101 102 103 104 105 106 107\n",
      " 108 109 110 111 112 113 114 115 116 117 118 119 120 121 122 123 124 125\n",
      " 126 127 128 129 130 131 132 133 134 135 136 137 138 139 140 141 142 143\n",
      " 144 145 146 147 148 149 150 151 152 153 154 155 156 157 158 159 160 161\n",
      " 162 163 164 165 166 167 168 169 170 171 172 173 174 175 176 177 178 179\n",
      " 180 181 182 183 184 185 186 187 188 189 190 191 192 193 194 195 196 197\n",
      " 198 199 200 201 202 203 204 205 206 207 208 209 210 211 212 213 214 215\n",
      " 216 217 218 219 220 221 222 223 224 225 226 227 228 229 230 231 232 233\n",
      " 234 235 236 237 238 239 240 241 242 243 244 245 246 247 248 249 250 251\n",
      " 252 253 254 255]\n"
     ]
    }
   ],
   "source": [
    "clist = np.arange(256)\n",
    "print(clist)"
   ]
  },
  {
   "cell_type": "code",
   "execution_count": 75,
   "metadata": {},
   "outputs": [
    {
     "data": {
      "text/plain": [
       "array([227, 169,   3, 166, 246, 201,   0,  47,   1, 255,   2, 254,  96,\n",
       "         3,  97, 144])"
      ]
     },
     "execution_count": 75,
     "metadata": {},
     "output_type": "execute_result"
    }
   ],
   "source": [
    "inplen = np.array([227,169,3,166,246,201,0,47,1,255,2,254,96,3,97,144])\n",
    "inplen"
   ]
  },
  {
   "cell_type": "code",
   "execution_count": 76,
   "metadata": {},
   "outputs": [
    {
     "name": "stdout",
     "output_type": "stream",
     "text": [
      "pos: 0, skip: 0, length: 227\n",
      "[226 225 224 223 222 221 220 219 218 217 216 215 214 213 212 211 210 209\n",
      " 208 207 206 205 204 203 202 201 200 199 198 197 196 195 194 193 192 191\n",
      " 190 189 188 187 186 185 184 183 182 181 180 179 178 177 176 175 174 173\n",
      " 172 171 170 169 168 167 166 165 164 163 162 161 160 159 158 157 156 155\n",
      " 154 153 152 151 150 149 148 147 146 145 144 143 142 141 140 139 138 137\n",
      " 136 135 134 133 132 131 130 129 128 127 126 125 124 123 122 121 120 119\n",
      " 118 117 116 115 114 113 112 111 110 109 108 107 106 105 104 103 102 101\n",
      " 100  99  98  97  96  95  94  93  92  91  90  89  88  87  86  85  84  83\n",
      "  82  81  80  79  78  77  76  75  74  73  72  71  70  69  68  67  66  65\n",
      "  64  63  62  61  60  59  58  57  56  55  54  53  52  51  50  49  48  47\n",
      "  46  45  44  43  42  41  40  39  38  37  36  35  34  33  32  31  30  29\n",
      "  28  27  26  25  24  23  22  21  20  19  18  17  16  15  14  13  12  11\n",
      "  10   9   8   7   6   5   4   3   2   1   0 227 228 229 230 231 232 233\n",
      " 234 235 236 237 238 239 240 241 242 243 244 245 246 247 248 249 250 251\n",
      " 252 253 254 255]\n",
      "pos: 227, skip: 1, length: 169\n",
      "[116 117 118 119 120 121 122 123 124 125 126 127 128 129 130 131 132 133\n",
      " 134 135 136 137 138 139 140 141 142 143 144 145 146 147 148 149 150 151\n",
      " 152 153 154 155 156 157 158 159 160 161 162 163 164 165 166 167 168 169\n",
      " 170 171 172 173 174 175 176 177 178 179 180 181 182 183 184 185 186 187\n",
      " 188 189 190 191 192 193 194 195 196 197 198 199 200 201 202 203 204 205\n",
      " 206 207 208 209 210 211 212 213 214 215 216 217 218 219 220 221 222 223\n",
      " 224 225 226 255 254 253 252 251 250 249 248 247 246 245 244 243 242 241\n",
      " 240 239 238 237 236 235 234 233 232 231 230 229 228 227  86  85  84  83\n",
      "  82  81  80  79  78  77  76  75  74  73  72  71  70  69  68  67  66  65\n",
      "  64  63  62  61  60  59  58  57  56  55  54  53  52  51  50  49  48  47\n",
      "  46  45  44  43  42  41  40  39  38  37  36  35  34  33  32  31  30  29\n",
      "  28  27  26  25  24  23  22  21  20  19  18  17  16  15  14  13  12  11\n",
      "  10   9   8   7   6   5   4   3   2   1   0  87  88  89  90  91  92  93\n",
      "  94  95  96  97  98  99 100 101 102 103 104 105 106 107 108 109 110 111\n",
      " 112 113 114 115]\n",
      "pos: 141, skip: 2, length: 3\n",
      "[116 117 118 119 120 121 122 123 124 125 126 127 128 129 130 131 132 133\n",
      " 134 135 136 137 138 139 140 141 142 143 144 145 146 147 148 149 150 151\n",
      " 152 153 154 155 156 157 158 159 160 161 162 163 164 165 166 167 168 169\n",
      " 170 171 172 173 174 175 176 177 178 179 180 181 182 183 184 185 186 187\n",
      " 188 189 190 191 192 193 194 195 196 197 198 199 200 201 202 203 204 205\n",
      " 206 207 208 209 210 211 212 213 214 215 216 217 218 219 220 221 222 223\n",
      " 224 225 226 255 254 253 252 251 250 249 248 247 246 245 244 243 242 241\n",
      " 240 239 238 237 236 235 234 233 232 231 230 229 228 227  86  83  84  85\n",
      "  82  81  80  79  78  77  76  75  74  73  72  71  70  69  68  67  66  65\n",
      "  64  63  62  61  60  59  58  57  56  55  54  53  52  51  50  49  48  47\n",
      "  46  45  44  43  42  41  40  39  38  37  36  35  34  33  32  31  30  29\n",
      "  28  27  26  25  24  23  22  21  20  19  18  17  16  15  14  13  12  11\n",
      "  10   9   8   7   6   5   4   3   2   1   0  87  88  89  90  91  92  93\n",
      "  94  95  96  97  98  99 100 101 102 103 104 105 106 107 108 109 110 111\n",
      " 112 113 114 115]\n",
      "pos: 146, skip: 3, length: 166\n",
      "[ 25  26  27  28  29  30  31  32  33  34  35  36  37  38  39  40  41  42\n",
      "  43  44  45  46  47  48  49  50  51  52  53  54  55  56  57  58  59  60\n",
      "  61  62  63  64  65  66  67  68  69  70  71  72  73  74  75  76  77  78\n",
      "  79  80 172 173 174 175 176 177 178 179 180 181 182 183 184 185 186 187\n",
      " 188 189 190 191 192 193 194 195 196 197 198 199 200 201 202 203 204 205\n",
      " 206 207 208 209 210 211 212 213 214 215 216 217 218 219 220 221 222 223\n",
      " 224 225 226 255 254 253 252 251 250 249 248 247 246 245 244 243 242 241\n",
      " 240 239 238 237 236 235 234 233 232 231 230 229 228 227  86  83  84  85\n",
      "  82  81 171 170 169 168 167 166 165 164 163 162 161 160 159 158 157 156\n",
      " 155 154 153 152 151 150 149 148 147 146 145 144 143 142 141 140 139 138\n",
      " 137 136 135 134 133 132 131 130 129 128 127 126 125 124 123 122 121 120\n",
      " 119 118 117 116 115 114 113 112 111 110 109 108 107 106 105 104 103 102\n",
      " 101 100  99  98  97  96  95  94  93  92  91  90  89  88  87   0   1   2\n",
      "   3   4   5   6   7   8   9  10  11  12  13  14  15  16  17  18  19  20\n",
      "  21  22  23  24]\n",
      "pos: 59, skip: 4, length: 246\n",
      "[223 222 221 220 219 218 217 216 215 214 213 212 211 210 209 208 207 206\n",
      " 205 204 203 202 201 200 199 198 197 196 195 194 193 192 191 190 189 188\n",
      " 187 186 185 184 183 182 181 180 179 178 177 176 175  74  75  76  77  78\n",
      "  79  80 172 173 174  73  72  71  70  69  68  67  66  65  64  63  62  61\n",
      "  60  59  58  57  56  55  54  53  52  51  50  49  48  47  46  45  44  43\n",
      "  42  41  40  39  38  37  36  35  34  33  32  31  30  29  28  27  26  25\n",
      "  24  23  22  21  20  19  18  17  16  15  14  13  12  11  10   9   8   7\n",
      "   6   5   4   3   2   1   0  87  88  89  90  91  92  93  94  95  96  97\n",
      "  98  99 100 101 102 103 104 105 106 107 108 109 110 111 112 113 114 115\n",
      " 116 117 118 119 120 121 122 123 124 125 126 127 128 129 130 131 132 133\n",
      " 134 135 136 137 138 139 140 141 142 143 144 145 146 147 148 149 150 151\n",
      " 152 153 154 155 156 157 158 159 160 161 162 163 164 165 166 167 168 169\n",
      " 170 171  81  82  85  84  83  86 227 228 229 230 231 232 233 234 235 236\n",
      " 237 238 239 240 241 242 243 244 245 246 247 248 249 250 251 252 253 254\n",
      " 255 226 225 224]\n",
      "pos: 53, skip: 5, length: 201\n",
      "[223 222 221 220 219 218 217 216 215 214 213 212 211 210 209 208 207 206\n",
      " 205 204 203 202 201 200 199 198 197 196 195 194 193 192 191 190 189 188\n",
      " 187 186 185 184 183 182 181 180 179 178 177 176 175  74  75  76  77 226\n",
      " 255 254 253 252 251 250 249 248 247 246 245 244 243 242 241 240 239 238\n",
      " 237 236 235 234 233 232 231 230 229 228 227  86  83  84  85  82  81 171\n",
      " 170 169 168 167 166 165 164 163 162 161 160 159 158 157 156 155 154 153\n",
      " 152 151 150 149 148 147 146 145 144 143 142 141 140 139 138 137 136 135\n",
      " 134 133 132 131 130 129 128 127 126 125 124 123 122 121 120 119 118 117\n",
      " 116 115 114 113 112 111 110 109 108 107 106 105 104 103 102 101 100  99\n",
      "  98  97  96  95  94  93  92  91  90  89  88  87   0   1   2   3   4   5\n",
      "   6   7   8   9  10  11  12  13  14  15  16  17  18  19  20  21  22  23\n",
      "  24  25  26  27  28  29  30  31  32  33  34  35  36  37  38  39  40  41\n",
      "  42  43  44  45  46  47  48  49  50  51  52  53  54  55  56  57  58  59\n",
      "  60  61  62  63  64  65  66  67  68  69  70  71  72  73 174 173 172  80\n",
      "  79  78 225 224]\n",
      "pos: 3, skip: 6, length: 0\n",
      "[223 222 221 220 219 218 217 216 215 214 213 212 211 210 209 208 207 206\n",
      " 205 204 203 202 201 200 199 198 197 196 195 194 193 192 191 190 189 188\n",
      " 187 186 185 184 183 182 181 180 179 178 177 176 175  74  75  76  77 226\n",
      " 255 254 253 252 251 250 249 248 247 246 245 244 243 242 241 240 239 238\n",
      " 237 236 235 234 233 232 231 230 229 228 227  86  83  84  85  82  81 171\n",
      " 170 169 168 167 166 165 164 163 162 161 160 159 158 157 156 155 154 153\n",
      " 152 151 150 149 148 147 146 145 144 143 142 141 140 139 138 137 136 135\n",
      " 134 133 132 131 130 129 128 127 126 125 124 123 122 121 120 119 118 117\n",
      " 116 115 114 113 112 111 110 109 108 107 106 105 104 103 102 101 100  99\n",
      "  98  97  96  95  94  93  92  91  90  89  88  87   0   1   2   3   4   5\n",
      "   6   7   8   9  10  11  12  13  14  15  16  17  18  19  20  21  22  23\n",
      "  24  25  26  27  28  29  30  31  32  33  34  35  36  37  38  39  40  41\n",
      "  42  43  44  45  46  47  48  49  50  51  52  53  54  55  56  57  58  59\n",
      "  60  61  62  63  64  65  66  67  68  69  70  71  72  73 174 173 172  80\n",
      "  79  78 225 224]\n",
      "pos: 9, skip: 7, length: 47\n",
      "[223 222 221 220 219 218 217 216 215 254 255 226  77  76  75  74 175 176\n",
      " 177 178 179 180 181 182 183 184 185 186 187 188 189 190 191 192 193 194\n",
      " 195 196 197 198 199 200 201 202 203 204 205 206 207 208 209 210 211 212\n",
      " 213 214 253 252 251 250 249 248 247 246 245 244 243 242 241 240 239 238\n",
      " 237 236 235 234 233 232 231 230 229 228 227  86  83  84  85  82  81 171\n",
      " 170 169 168 167 166 165 164 163 162 161 160 159 158 157 156 155 154 153\n",
      " 152 151 150 149 148 147 146 145 144 143 142 141 140 139 138 137 136 135\n",
      " 134 133 132 131 130 129 128 127 126 125 124 123 122 121 120 119 118 117\n",
      " 116 115 114 113 112 111 110 109 108 107 106 105 104 103 102 101 100  99\n",
      "  98  97  96  95  94  93  92  91  90  89  88  87   0   1   2   3   4   5\n",
      "   6   7   8   9  10  11  12  13  14  15  16  17  18  19  20  21  22  23\n",
      "  24  25  26  27  28  29  30  31  32  33  34  35  36  37  38  39  40  41\n",
      "  42  43  44  45  46  47  48  49  50  51  52  53  54  55  56  57  58  59\n",
      "  60  61  62  63  64  65  66  67  68  69  70  71  72  73 174 173 172  80\n",
      "  79  78 225 224]\n",
      "pos: 63, skip: 8, length: 1\n",
      "[223 222 221 220 219 218 217 216 215 254 255 226  77  76  75  74 175 176\n",
      " 177 178 179 180 181 182 183 184 185 186 187 188 189 190 191 192 193 194\n",
      " 195 196 197 198 199 200 201 202 203 204 205 206 207 208 209 210 211 212\n",
      " 213 214 253 252 251 250 249 248 247 246 245 244 243 242 241 240 239 238\n",
      " 237 236 235 234 233 232 231 230 229 228 227  86  83  84  85  82  81 171\n",
      " 170 169 168 167 166 165 164 163 162 161 160 159 158 157 156 155 154 153\n",
      " 152 151 150 149 148 147 146 145 144 143 142 141 140 139 138 137 136 135\n",
      " 134 133 132 131 130 129 128 127 126 125 124 123 122 121 120 119 118 117\n",
      " 116 115 114 113 112 111 110 109 108 107 106 105 104 103 102 101 100  99\n",
      "  98  97  96  95  94  93  92  91  90  89  88  87   0   1   2   3   4   5\n",
      "   6   7   8   9  10  11  12  13  14  15  16  17  18  19  20  21  22  23\n",
      "  24  25  26  27  28  29  30  31  32  33  34  35  36  37  38  39  40  41\n",
      "  42  43  44  45  46  47  48  49  50  51  52  53  54  55  56  57  58  59\n",
      "  60  61  62  63  64  65  66  67  68  69  70  71  72  73 174 173 172  80\n",
      "  79  78 225 224]\n",
      "pos: 72, skip: 9, length: 255\n",
      "[118 119 120 121 122 123 124 125 126 127 128 129 130 131 132 133 134 135\n",
      " 136 137 138 139 140 141 142 143 144 145 146 147 148 149 150 151 152 153\n",
      " 154 155 156 157 158 159 160 161 162 163 164 165 166 167 168 169 170 171\n",
      "  81  82  85  84  83  86 227 228 229 230 231 232 233 234 235 236 237 238\n",
      " 239 240 241 242 243 244 245 246 247 248 249 250 251 252 253 214 213 212\n",
      " 211 210 209 208 207 206 205 204 203 202 201 200 199 198 197 196 195 194\n",
      " 193 192 191 190 189 188 187 186 185 184 183 182 181 180 179 178 177 176\n",
      " 175  74  75  76  77 226 255 254 215 216 217 218 219 220 221 222 223 224\n",
      " 225  78  79  80 172 173 174  73  72  71  70  69  68  67  66  65  64  63\n",
      "  62  61  60  59  58  57  56  55  54  53  52  51  50  49  48  47  46  45\n",
      "  44  43  42  41  40  39  38  37  36  35  34  33  32  31  30  29  28  27\n",
      "  26  25  24  23  22  21  20  19  18  17  16  15  14  13  12  11  10   9\n",
      "   8   7   6   5   4   3   2   1   0  87  88  89  90  91  92  93  94  95\n",
      "  96  97  98  99 100 101 102 103 104 105 106 107 108 109 110 111 112 113\n",
      " 114 115 116 117]\n",
      "pos: 80, skip: 10, length: 2\n",
      "[118 119 120 121 122 123 124 125 126 127 128 129 130 131 132 133 134 135\n",
      " 136 137 138 139 140 141 142 143 144 145 146 147 148 149 150 151 152 153\n",
      " 154 155 156 157 158 159 160 161 162 163 164 165 166 167 168 169 170 171\n",
      "  81  82  85  84  83  86 227 228 229 230 231 232 233 234 235 236 237 238\n",
      " 239 240 241 242 243 244 245 246 248 247 249 250 251 252 253 214 213 212\n",
      " 211 210 209 208 207 206 205 204 203 202 201 200 199 198 197 196 195 194\n",
      " 193 192 191 190 189 188 187 186 185 184 183 182 181 180 179 178 177 176\n",
      " 175  74  75  76  77 226 255 254 215 216 217 218 219 220 221 222 223 224\n",
      " 225  78  79  80 172 173 174  73  72  71  70  69  68  67  66  65  64  63\n",
      "  62  61  60  59  58  57  56  55  54  53  52  51  50  49  48  47  46  45\n",
      "  44  43  42  41  40  39  38  37  36  35  34  33  32  31  30  29  28  27\n",
      "  26  25  24  23  22  21  20  19  18  17  16  15  14  13  12  11  10   9\n",
      "   8   7   6   5   4   3   2   1   0  87  88  89  90  91  92  93  94  95\n",
      "  96  97  98  99 100 101 102 103 104 105 106 107 108 109 110 111 112 113\n",
      " 114 115 116 117]\n",
      "pos: 92, skip: 11, length: 254\n",
      "[ 43  44  45  46  47  48  49  50  51  52  53  54  55  56  57  58  59  60\n",
      "  61  62  63  64  65  66  67  68  69  70  71  72  73 174 173 172  80  79\n",
      "  78 225 224 223 222 221 220 219 218 217 216 215 254 255 226  77  76  75\n",
      "  74 175 176 177 178 179 180 181 182 183 184 185 186 187 188 189 190 191\n",
      " 192 193 194 195 196 197 198 199 200 201 202 203 204 205 206 207 208 209\n",
      " 211 210 212 213 214 253 252 251 250 249 247 248 246 245 244 243 242 241\n",
      " 240 239 238 237 236 235 234 233 232 231 230 229 228 227  86  83  84  85\n",
      "  82  81 171 170 169 168 167 166 165 164 163 162 161 160 159 158 157 156\n",
      " 155 154 153 152 151 150 149 148 147 146 145 144 143 142 141 140 139 138\n",
      " 137 136 135 134 133 132 131 130 129 128 127 126 125 124 123 122 121 120\n",
      " 119 118 117 116 115 114 113 112 111 110 109 108 107 106 105 104 103 102\n",
      " 101 100  99  98  97  96  95  94  93  92  91  90  89  88  87   0   1   2\n",
      "   3   4   5   6   7   8   9  10  11  12  13  14  15  16  17  18  19  20\n",
      "  21  22  23  24  25  26  27  28  29  30  31  32  33  34  35  36  37  38\n",
      "  39  40  41  42]\n",
      "pos: 101, skip: 12, length: 96\n",
      "[ 43  44  45  46  47  48  49  50  51  52  53  54  55  56  57  58  59  60\n",
      "  61  62  63  64  65  66  67  68  69  70  71  72  73 174 173 172  80  79\n",
      "  78 225 224 223 222 221 220 219 218 217 216 215 254 255 226  77  76  75\n",
      "  74 175 176 177 178 179 180 181 182 183 184 185 186 187 188 189 190 191\n",
      " 192 193 194 195 196 197 198 199 200 201 202 203 204 205 206 207 208 209\n",
      " 211 210 212 213 214 253 252 251 250 249 247 103 104 105 106 107 108 109\n",
      " 110 111 112 113 114 115 116 117 118 119 120 121 122 123 124 125 126 127\n",
      " 128 129 130 131 132 133 134 135 136 137 138 139 140 141 142 143 144 145\n",
      " 146 147 148 149 150 151 152 153 154 155 156 157 158 159 160 161 162 163\n",
      " 164 165 166 167 168 169 170 171  81  82  85  84  83  86 227 228 229 230\n",
      " 231 232 233 234 235 236 237 238 239 240 241 242 243 244 245 246 248 102\n",
      " 101 100  99  98  97  96  95  94  93  92  91  90  89  88  87   0   1   2\n",
      "   3   4   5   6   7   8   9  10  11  12  13  14  15  16  17  18  19  20\n",
      "  21  22  23  24  25  26  27  28  29  30  31  32  33  34  35  36  37  38\n",
      "  39  40  41  42]\n",
      "pos: 209, skip: 13, length: 3\n",
      "[ 43  44  45  46  47  48  49  50  51  52  53  54  55  56  57  58  59  60\n",
      "  61  62  63  64  65  66  67  68  69  70  71  72  73 174 173 172  80  79\n",
      "  78 225 224 223 222 221 220 219 218 217 216 215 254 255 226  77  76  75\n",
      "  74 175 176 177 178 179 180 181 182 183 184 185 186 187 188 189 190 191\n",
      " 192 193 194 195 196 197 198 199 200 201 202 203 204 205 206 207 208 209\n",
      " 211 210 212 213 214 253 252 251 250 249 247 103 104 105 106 107 108 109\n",
      " 110 111 112 113 114 115 116 117 118 119 120 121 122 123 124 125 126 127\n",
      " 128 129 130 131 132 133 134 135 136 137 138 139 140 141 142 143 144 145\n",
      " 146 147 148 149 150 151 152 153 154 155 156 157 158 159 160 161 162 163\n",
      " 164 165 166 167 168 169 170 171  81  82  85  84  83  86 227 228 229 230\n",
      " 231 232 233 234 235 236 237 238 239 240 241 242 243 244 245 246 248 102\n",
      " 101 100  99  98  97  96  95  94  93  92  91  88  89  90  87   0   1   2\n",
      "   3   4   5   6   7   8   9  10  11  12  13  14  15  16  17  18  19  20\n",
      "  21  22  23  24  25  26  27  28  29  30  31  32  33  34  35  36  37  38\n",
      "  39  40  41  42]\n",
      "pos: 225, skip: 14, length: 97\n",
      "[ 80 172 173 174  73  72  71  70  69  68  67  66  65  64  63  62  61  60\n",
      "  59  58  57  56  55  54  53  52  51  50  49  48  47  46  45  44  43  42\n",
      "  41  40  39  38  37  36  35  34  33  32  31  30  29  28  27  26  25  24\n",
      "  23  22  21  20  19  18  17  16  15  14  13  12 186 187 188 189 190 191\n",
      " 192 193 194 195 196 197 198 199 200 201 202 203 204 205 206 207 208 209\n",
      " 211 210 212 213 214 253 252 251 250 249 247 103 104 105 106 107 108 109\n",
      " 110 111 112 113 114 115 116 117 118 119 120 121 122 123 124 125 126 127\n",
      " 128 129 130 131 132 133 134 135 136 137 138 139 140 141 142 143 144 145\n",
      " 146 147 148 149 150 151 152 153 154 155 156 157 158 159 160 161 162 163\n",
      " 164 165 166 167 168 169 170 171  81  82  85  84  83  86 227 228 229 230\n",
      " 231 232 233 234 235 236 237 238 239 240 241 242 243 244 245 246 248 102\n",
      " 101 100  99  98  97  96  95  94  93  92  91  88  89  90  87   0   1   2\n",
      "   3   4   5   6   7   8   9  10  11 185 184 183 182 181 180 179 178 177\n",
      " 176 175  74  75  76  77 226 255 254 215 216 217 218 219 220 221 222 223\n",
      " 224 225  78  79]\n",
      "pos: 80, skip: 15, length: 144\n",
      "[ 80 172 173 174  73  72  71  70  69  68  67  66  65  64  63  62  61  60\n",
      "  59  58  57  56  55  54  53  52  51  50  49  48  47  46  45  44  43  42\n",
      "  41  40  39  38  37  36  35  34  33  32  31  30  29  28  27  26  25  24\n",
      "  23  22  21  20  19  18  17  16  15  14  13  12 186 187 188 189 190 191\n",
      " 192 193 194 195 196 197 198 199  10   9   8   7   6   5   4   3   2   1\n",
      "   0  87  90  89  88  91  92  93  94  95  96  97  98  99 100 101 102 248\n",
      " 246 245 244 243 242 241 240 239 238 237 236 235 234 233 232 231 230 229\n",
      " 228 227  86  83  84  85  82  81 171 170 169 168 167 166 165 164 163 162\n",
      " 161 160 159 158 157 156 155 154 153 152 151 150 149 148 147 146 145 144\n",
      " 143 142 141 140 139 138 137 136 135 134 133 132 131 130 129 128 127 126\n",
      " 125 124 123 122 121 120 119 118 117 116 115 114 113 112 111 110 109 108\n",
      " 107 106 105 104 103 247 249 250 251 252 253 214 213 212 210 211 209 208\n",
      " 207 206 205 204 203 202 201 200  11 185 184 183 182 181 180 179 178 177\n",
      " 176 175  74  75  76  77 226 255 254 215 216 217 218 219 220 221 222 223\n",
      " 224 225  78  79]\n"
     ]
    }
   ],
   "source": [
    "pos = 0\n",
    "for skip, length in enumerate(inplen):\n",
    "    print(\"pos: {}, skip: {}, length: {}\".format(pos, skip, length))\n",
    "    clist = reverse(clist, pos, pos+length)\n",
    "    print(clist)\n",
    "    pos = (pos + length + skip)%len(clist)"
   ]
  },
  {
   "cell_type": "code",
   "execution_count": 77,
   "metadata": {},
   "outputs": [
    {
     "name": "stdout",
     "output_type": "stream",
     "text": [
      "13760\n"
     ]
    }
   ],
   "source": [
    "print(clist[0]*clist[1])"
   ]
  },
  {
   "cell_type": "markdown",
   "metadata": {},
   "source": [
    "## Part Two\n",
    "\n",
    "The logic you've constructed forms a single round of the Knot Hash algorithm; running the full thing requires many of these rounds. Some input and output processing is also required.\n",
    "\n",
    "First, from now on, your input should be taken not as a list of numbers, but as a string of bytes instead. Unless otherwise specified, convert characters to bytes using their ASCII codes. This will allow you to handle arbitrary ASCII strings, and it also ensures that your input lengths are never larger than 255. For example, if you are given 1,2,3, you should convert it to the ASCII codes for each character: 49,44,50,44,51.\n",
    "\n",
    "Once you have determined the sequence of lengths to use, add the following lengths to the end of the sequence: 17, 31, 73, 47, 23. For example, if you are given 1,2,3, your final sequence of lengths should be 49,44,50,44,51,17,31,73,47,23 (the ASCII codes from the input string combined with the standard length suffix values).\n",
    "\n",
    "Second, instead of merely running one round like you did above, run a total of 64 rounds, using the same length sequence in each round. The current position and skip size should be preserved between rounds. For example, if the previous example was your first round, you would start your second round with the same length sequence (3, 4, 1, 5, 17, 31, 73, 47, 23, now assuming they came from ASCII codes and include the suffix), but start with the previous round's current position (4) and skip size (4).\n",
    "\n",
    "Once the rounds are complete, you will be left with the numbers from 0 to 255 in some order, called the sparse hash. Your next task is to reduce these to a list of only 16 numbers called the dense hash. To do this, use numeric bitwise XOR to combine each consecutive block of 16 numbers in the sparse hash (there are 16 such blocks in a list of 256 numbers). So, the first element in the dense hash is the first sixteen elements of the sparse hash XOR'd together, the second element in the dense hash is the second sixteen elements of the sparse hash XOR'd together, etc.\n",
    "\n",
    "For example, if the first sixteen elements of your sparse hash are as shown below, and the XOR operator is ^, you would calculate the first output number like this:\n",
    "\n",
    "* 65 ^ 27 ^ 9 ^ 1 ^ 4 ^ 3 ^ 40 ^ 50 ^ 91 ^ 7 ^ 6 ^ 0 ^ 2 ^ 5 ^ 68 ^ 22 = 64\n",
    "\n",
    "Perform this operation on each of the sixteen blocks of sixteen numbers in your sparse hash to determine the sixteen numbers in your dense hash.\n",
    "\n",
    "Finally, the standard way to represent a Knot Hash is as a single hexadecimal string; the final output is the dense hash in hexadecimal notation. Because each number in your dense hash will be between 0 and 255 (inclusive), always represent each number as two hexadecimal digits (including a leading zero as necessary). So, if your first three numbers are 64, 7, 255, they correspond to the hexadecimal numbers 40, 07, ff, and so the first six characters of the hash would be 4007ff. Because every Knot Hash is sixteen such numbers, the hexadecimal representation is always 32 hexadecimal digits (0-f) long.\n",
    "\n",
    "Here are some example hashes:\n",
    "\n",
    "* The empty string becomes a2582a3a0e66e6e86e3812dcb672a272.\n",
    "* AoC 2017 becomes 33efeb34ea91902bb2f59c9920caa6cd.\n",
    "* 1,2,3 becomes 3efbe78a8d82f29979031a4aa0b16a9d.\n",
    "* 1,2,4 becomes 63960835bcdc130f0b66d7ff4f6a5a8e.\n",
    "\n",
    "Treating your puzzle input as a string of ASCII characters, what is the Knot Hash of your puzzle input? Ignore any leading or trailing whitespace you might encounter."
   ]
  },
  {
   "cell_type": "code",
   "execution_count": 162,
   "metadata": {},
   "outputs": [
    {
     "name": "stdout",
     "output_type": "stream",
     "text": [
      "[  0   1   2   3   4   5   6   7   8   9  10  11  12  13  14  15  16  17\n",
      "  18  19  20  21  22  23  24  25  26  27  28  29  30  31  32  33  34  35\n",
      "  36  37  38  39  40  41  42  43  44  45  46  47  48  49  50  51  52  53\n",
      "  54  55  56  57  58  59  60  61  62  63  64  65  66  67  68  69  70  71\n",
      "  72  73  74  75  76  77  78  79  80  81  82  83  84  85  86  87  88  89\n",
      "  90  91  92  93  94  95  96  97  98  99 100 101 102 103 104 105 106 107\n",
      " 108 109 110 111 112 113 114 115 116 117 118 119 120 121 122 123 124 125\n",
      " 126 127 128 129 130 131 132 133 134 135 136 137 138 139 140 141 142 143\n",
      " 144 145 146 147 148 149 150 151 152 153 154 155 156 157 158 159 160 161\n",
      " 162 163 164 165 166 167 168 169 170 171 172 173 174 175 176 177 178 179\n",
      " 180 181 182 183 184 185 186 187 188 189 190 191 192 193 194 195 196 197\n",
      " 198 199 200 201 202 203 204 205 206 207 208 209 210 211 212 213 214 215\n",
      " 216 217 218 219 220 221 222 223 224 225 226 227 228 229 230 231 232 233\n",
      " 234 235 236 237 238 239 240 241 242 243 244 245 246 247 248 249 250 251\n",
      " 252 253 254 255]\n"
     ]
    }
   ],
   "source": [
    "clist = np.arange(256)\n",
    "print(clist)"
   ]
  },
  {
   "cell_type": "code",
   "execution_count": 163,
   "metadata": {},
   "outputs": [
    {
     "data": {
      "text/plain": [
       "array([50, 50, 55, 44, 49, 54, 57, 44, 51, 44, 49, 54, 54, 44, 50, 52, 54,\n",
       "       44, 50, 48, 49, 44, 48, 44, 52, 55, 44, 49, 44, 50, 53, 53, 44, 50,\n",
       "       44, 50, 53, 52, 44, 57, 54, 44, 51, 44, 57, 55, 44, 49, 52, 52, 17,\n",
       "       31, 73, 47, 23])"
      ]
     },
     "execution_count": 163,
     "metadata": {},
     "output_type": "execute_result"
    }
   ],
   "source": [
    "inp = \"227,169,3,166,246,201,0,47,1,255,2,254,96,3,97,144\"\n",
    "inplen = np.array([ord(str(a)) for a in inp])\n",
    "inplen = np.concatenate([inplen, np.array([17, 31, 73, 47, 23])])\n",
    "inplen"
   ]
  },
  {
   "cell_type": "code",
   "execution_count": 164,
   "metadata": {},
   "outputs": [],
   "source": [
    "pos = 0\n",
    "skip = 0\n",
    "for r in range(64):\n",
    "    for length in inplen:\n",
    "        clist = reverse(clist, pos, pos+length)\n",
    "        pos = (pos + length + skip)%len(clist)\n",
    "        skip += 1"
   ]
  },
  {
   "cell_type": "code",
   "execution_count": 165,
   "metadata": {},
   "outputs": [
    {
     "data": {
      "text/plain": [
       "array([123, 106, 147, 105, 215,  60, 174,  12, 153, 238, 179, 225,  68,\n",
       "       145, 130, 253,  28, 134, 136, 193,  97,  94,  66,  37,  63,   8,\n",
       "       171,  36, 185,  96, 213, 150, 241, 172,  92,  35, 250, 152, 224,\n",
       "        76, 230,  95,   9,  65,  42, 138, 188,  50,  44,  80,   1, 114,\n",
       "       110,  55, 102, 143, 236, 228,  45, 195,  29, 157, 120,  52, 129,\n",
       "       173,   0, 219, 169,  40, 144, 196, 164, 192, 132, 131,  85,  89,\n",
       "        71, 251,  14, 112, 232, 119,  47, 211, 111, 208, 122, 242, 161,\n",
       "       200,  61, 199,  21,  10,  83,  54,   5,  43, 209,  15, 162, 246,\n",
       "        72,  16,  34,  69, 218, 247, 220, 180, 118, 100, 235,  58, 233,\n",
       "       217, 240,  22,  73, 214, 146,  67,  77, 168, 142,   4,  75,   2,\n",
       "       175,  13, 206, 182, 234, 113, 155, 212, 216,  91, 205, 117,  26,\n",
       "        20, 160, 187, 167, 163,  25, 141,  64, 133, 149, 194,  31,  84,\n",
       "       140, 159,  18, 115, 109,  53, 184, 121, 104,  56,  82,  27,  88,\n",
       "       165, 135, 181, 248,  81, 158,  74, 222, 239, 229, 223,   3,  46,\n",
       "       203, 252,  41,  23,  86, 198, 126,  87, 176, 116, 191, 128, 231,\n",
       "       207, 178,  78, 249, 108,  90,  39,  17, 103, 127, 227,  49,  59,\n",
       "       139, 202, 137,  33,  38, 226, 151, 156, 221,  24,  51, 170, 237,\n",
       "        93, 204, 183,  32, 190, 107,  99, 201, 254,   6, 245, 244, 197,\n",
       "        57, 154, 243, 189, 101, 148,  11,  30,  79, 125,  70,  48, 255,\n",
       "        19, 177, 186,  98, 210, 166, 124,  62,   7])"
      ]
     },
     "execution_count": 165,
     "metadata": {},
     "output_type": "execute_result"
    }
   ],
   "source": [
    "clist"
   ]
  },
  {
   "cell_type": "code",
   "execution_count": 166,
   "metadata": {},
   "outputs": [
    {
     "data": {
      "text/plain": [
       "[45, 169, 51, 149, 241, 166, 187, 52, 114, 32, 50, 82, 227, 177, 127, 229]"
      ]
     },
     "execution_count": 166,
     "metadata": {},
     "output_type": "execute_result"
    }
   ],
   "source": [
    "densehash = []\n",
    "for i in range(16):\n",
    "    densehash.append(np.bitwise_xor.reduce(clist[i*16:(i+1)*16]))\n",
    "densehash"
   ]
  },
  {
   "cell_type": "code",
   "execution_count": 167,
   "metadata": {},
   "outputs": [
    {
     "data": {
      "text/plain": [
       "'2da93395f1a6bb3472203252e3b17fe5'"
      ]
     },
     "execution_count": 167,
     "metadata": {},
     "output_type": "execute_result"
    }
   ],
   "source": [
    "hexdensehash = ''.join([format(d, '02x') for d in densehash])\n",
    "hexdensehash"
   ]
  },
  {
   "cell_type": "code",
   "execution_count": null,
   "metadata": {},
   "outputs": [],
   "source": []
  }
 ],
 "metadata": {
  "kernelspec": {
   "display_name": "Python 3",
   "language": "python",
   "name": "python3"
  },
  "language_info": {
   "codemirror_mode": {
    "name": "ipython",
    "version": 3
   },
   "file_extension": ".py",
   "mimetype": "text/x-python",
   "name": "python",
   "nbconvert_exporter": "python",
   "pygments_lexer": "ipython3",
   "version": "3.6.6"
  }
 },
 "nbformat": 4,
 "nbformat_minor": 2
}
