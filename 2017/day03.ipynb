{
 "cells": [
  {
   "cell_type": "markdown",
   "metadata": {},
   "source": [
    "# Day 3: Spiral Memory\n",
    "\n",
    "You come across an experimental new kind of memory stored on an infinite two-dimensional grid.\n",
    "\n",
    "Each square on the grid is allocated in a spiral pattern starting at a location marked 1 and then counting up while spiraling outward. For example, the first few squares are allocated like this:\n",
    "\n",
    "17  16  15  14  13\n",
    "\n",
    "18   5   4   3  12\n",
    "\n",
    "19   6   1   2  11\n",
    "\n",
    "20   7   8   9  10\n",
    "\n",
    "21  22  23---> ...\n",
    "\n",
    "While this is very space-efficient (no squares are skipped), requested data must be carried back to square 1 (the location of the only access port for this memory system) by programs that can only move up, down, left, or right. They always take the shortest path: the Manhattan Distance between the location of the data and square 1.\n",
    "\n",
    "For example:\n",
    "\n",
    "Data from square 1 is carried 0 steps, since it's at the access port.\n",
    "Data from square 12 is carried 3 steps, such as: down, left, left.\n",
    "Data from square 23 is carried only 2 steps: up twice.\n",
    "Data from square 1024 must be carried 31 steps.\n",
    "How many steps are required to carry the data from the square identified in your puzzle input all the way to the access port?\n",
    "\n",
    "Your puzzle input is 289326."
   ]
  },
  {
   "cell_type": "code",
   "execution_count": 2,
   "metadata": {},
   "outputs": [],
   "source": [
    "import numpy as np"
   ]
  },
  {
   "cell_type": "code",
   "execution_count": 101,
   "metadata": {},
   "outputs": [
    {
     "name": "stdout",
     "output_type": "stream",
     "text": [
      "537.0\n"
     ]
    }
   ],
   "source": [
    "x = 289326\n",
    "fullsquare = np.floor(np.sqrt(x-1))\n",
    "print(fullsquare)"
   ]
  },
  {
   "cell_type": "code",
   "execution_count": 102,
   "metadata": {},
   "outputs": [
    {
     "name": "stdout",
     "output_type": "stream",
     "text": [
      "[269.0, 150.0]\n"
     ]
    }
   ],
   "source": [
    "coord = [0,0]\n",
    "coord[0] = np.ceil(fullsquare/2)\n",
    "coord[1] = -np.ceil(fullsquare/2) + ((x - fullsquare**2)%(((fullsquare+2)**2 - fullsquare**2) / 4))\n",
    "print(coord)"
   ]
  },
  {
   "cell_type": "code",
   "execution_count": 103,
   "metadata": {},
   "outputs": [
    {
     "data": {
      "text/plain": [
       "419.0"
      ]
     },
     "execution_count": 103,
     "metadata": {},
     "output_type": "execute_result"
    }
   ],
   "source": [
    "dist = np.abs(coord[0]) + np.abs(coord[1])\n",
    "dist"
   ]
  },
  {
   "cell_type": "markdown",
   "metadata": {},
   "source": [
    "## Part Two\n",
    "\n",
    "As a stress test on the system, the programs here clear the grid and then store the value 1 in square 1. Then, in the same allocation order as shown above, they store the sum of the values in all adjacent squares, including diagonals.\n",
    "\n",
    "So, the first few squares' values are chosen as follows:\n",
    "\n",
    "Square 1 starts with the value 1.\n",
    "Square 2 has only one adjacent filled square (with value 1), so it also stores 1.\n",
    "Square 3 has both of the above squares as neighbors and stores the sum of their values, 2.\n",
    "Square 4 has all three of the aforementioned squares as neighbors and stores the sum of their values, 4.\n",
    "Square 5 only has the first and fourth squares as neighbors, so it gets the value 5.\n",
    "Once a square is written, its value does not change. Therefore, the first few squares would receive the following values:\n",
    "\n",
    "147  142  133  122   59\n",
    "\n",
    "304    5    4    2   57\n",
    "\n",
    "330   10    1    1   54\n",
    "\n",
    "351   11   23   25   26\n",
    "\n",
    "362  747  806--->   ...\n",
    "\n",
    "What is the first value written that is larger than your puzzle input?"
   ]
  },
  {
   "cell_type": "code",
   "execution_count": 105,
   "metadata": {},
   "outputs": [],
   "source": [
    "from itertools import count"
   ]
  },
  {
   "cell_type": "code",
   "execution_count": 177,
   "metadata": {},
   "outputs": [],
   "source": [
    "def sum_spiral():\n",
    "    a, i, j = {(0,0): 1}, 0, 0\n",
    "    for s in count(1,2):\n",
    "        for (ds, di, dj) in [(0,1,0), (0,0,1), (1,-1,0), (1,0,-1)]:\n",
    "            for _ in range(s+ds):\n",
    "                i += di\n",
    "                j += dj\n",
    "                a[i,j] = sum((a.get((k,l), 0) for k in range(i-1, i+2) for l in range(j-1, j+2)))\n",
    "                yield a[i,j]\n",
    "    \n",
    "        "
   ]
  },
  {
   "cell_type": "code",
   "execution_count": 179,
   "metadata": {},
   "outputs": [],
   "source": [
    "def highervalue(n):\n",
    "    for x in sum_spiral():\n",
    "        if x>n: return x"
   ]
  },
  {
   "cell_type": "code",
   "execution_count": 180,
   "metadata": {},
   "outputs": [
    {
     "data": {
      "text/plain": [
       "295229"
      ]
     },
     "execution_count": 180,
     "metadata": {},
     "output_type": "execute_result"
    }
   ],
   "source": [
    "highervalue(289326)"
   ]
  },
  {
   "cell_type": "code",
   "execution_count": null,
   "metadata": {},
   "outputs": [],
   "source": []
  }
 ],
 "metadata": {
  "kernelspec": {
   "display_name": "Python 3",
   "language": "python",
   "name": "python3"
  },
  "language_info": {
   "codemirror_mode": {
    "name": "ipython",
    "version": 3
   },
   "file_extension": ".py",
   "mimetype": "text/x-python",
   "name": "python",
   "nbconvert_exporter": "python",
   "pygments_lexer": "ipython3",
   "version": "3.6.6"
  }
 },
 "nbformat": 4,
 "nbformat_minor": 2
}
