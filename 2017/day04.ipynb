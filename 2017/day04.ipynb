{
 "cells": [
  {
   "cell_type": "markdown",
   "metadata": {},
   "source": [
    "# Day 4: High-Entropy Passphrases\n",
    "\n",
    "## Part One\n",
    "\n",
    "A new system policy has been put in place that requires all accounts to use a passphrase instead of simply a password. A passphrase consists of a series of words (lowercase letters) separated by spaces.\n",
    "\n",
    "To ensure security, a valid passphrase must contain no duplicate words.\n",
    "\n",
    "For example:\n",
    "\n",
    "* aa bb cc dd ee is valid.\n",
    "* aa bb cc dd aa is not valid - the word aa appears more than once.\n",
    "* aa bb cc dd aaa is valid - aa and aaa count as different words.\n",
    "\n",
    "The system's full passphrase list is available as your puzzle input. How many passphrases are valid?"
   ]
  },
  {
   "cell_type": "code",
   "execution_count": 1,
   "metadata": {},
   "outputs": [],
   "source": [
    "import numpy as np"
   ]
  },
  {
   "cell_type": "code",
   "execution_count": 30,
   "metadata": {},
   "outputs": [],
   "source": [
    "npasswd = 0\n",
    "with open(\"day04_inp.dat\", \"r\") as f:\n",
    "    for line in f.readlines():\n",
    "        line = line.strip().split(\" \")\n",
    "        cache = []\n",
    "        double = False\n",
    "        for word in line:\n",
    "            if word in cache: \n",
    "                double = True\n",
    "                break\n",
    "            cache.append(word)\n",
    "        if double == False:\n",
    "            npasswd += 1"
   ]
  },
  {
   "cell_type": "code",
   "execution_count": 31,
   "metadata": {},
   "outputs": [
    {
     "data": {
      "text/plain": [
       "451"
      ]
     },
     "execution_count": 31,
     "metadata": {},
     "output_type": "execute_result"
    }
   ],
   "source": [
    "npasswd"
   ]
  },
  {
   "cell_type": "markdown",
   "metadata": {},
   "source": [
    "## Part Two\n",
    "\n",
    "For added security, yet another system policy has been put in place. Now, a valid passphrase must contain no two words that are anagrams of each other - that is, a passphrase is invalid if any word's letters can be rearranged to form any other word in the passphrase.\n",
    "\n",
    "For example:\n",
    "\n",
    "* abcde fghij is a valid passphrase.\n",
    "* abcde xyz ecdab is not valid - the letters from the third word can be rearranged to form the first word.\n",
    "* a ab abc abd abf abj is a valid passphrase, because all letters need to be used when forming another word.\n",
    "* iiii oiii ooii oooi oooo is valid.\n",
    "* oiii ioii iioi iiio is not valid - any of these words can be rearranged to form any other word.\n",
    "\n",
    "Under this new system policy, how many passphrases are valid?"
   ]
  },
  {
   "cell_type": "code",
   "execution_count": 58,
   "metadata": {},
   "outputs": [],
   "source": [
    "npasswd = 0\n",
    "with open(\"day04_inp.dat\", \"r\") as f:\n",
    "    for line in f.readlines():\n",
    "        line = line.strip().split(\" \")\n",
    "        cache = []\n",
    "        double = False\n",
    "        for word in line:\n",
    "            if sorted(word) in cache: \n",
    "                double = True\n",
    "                break\n",
    "            cache.append(sorted(word))\n",
    "        if double == False:\n",
    "            npasswd += 1"
   ]
  },
  {
   "cell_type": "code",
   "execution_count": 59,
   "metadata": {},
   "outputs": [
    {
     "data": {
      "text/plain": [
       "223"
      ]
     },
     "execution_count": 59,
     "metadata": {},
     "output_type": "execute_result"
    }
   ],
   "source": [
    "npasswd"
   ]
  },
  {
   "cell_type": "code",
   "execution_count": null,
   "metadata": {},
   "outputs": [],
   "source": []
  }
 ],
 "metadata": {
  "kernelspec": {
   "display_name": "Python 3",
   "language": "python",
   "name": "python3"
  },
  "language_info": {
   "codemirror_mode": {
    "name": "ipython",
    "version": 3
   },
   "file_extension": ".py",
   "mimetype": "text/x-python",
   "name": "python",
   "nbconvert_exporter": "python",
   "pygments_lexer": "ipython3",
   "version": "3.6.6"
  }
 },
 "nbformat": 4,
 "nbformat_minor": 2
}
