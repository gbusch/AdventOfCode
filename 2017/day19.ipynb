{
 "cells": [
  {
   "cell_type": "code",
   "execution_count": 23,
   "metadata": {},
   "outputs": [],
   "source": [
    "import string"
   ]
  },
  {
   "cell_type": "code",
   "execution_count": 37,
   "metadata": {},
   "outputs": [],
   "source": [
    "points = []"
   ]
  },
  {
   "cell_type": "code",
   "execution_count": 38,
   "metadata": {},
   "outputs": [],
   "source": [
    "def findstart(lines):\n",
    "    return 0, lines[0].index('|')\n",
    "    \n",
    "def down(lines, row, col):\n",
    "    while (lines[row+1][col] == \"|\") or (lines[row+1][col] in string.ascii_uppercase):\n",
    "        if lines[row+1][col] in string.ascii_uppercase: points.append(lines[row+1][col])\n",
    "        row +=1\n",
    "        print(lines[row+1][col])\n",
    "    if ä"
   ]
  },
  {
   "cell_type": "code",
   "execution_count": 39,
   "metadata": {},
   "outputs": [
    {
     "name": "stdout",
     "output_type": "stream",
     "text": [
      "0 5\n",
      "A\n",
      "|\n",
      "|\n",
      "+\n",
      "0 5\n"
     ]
    }
   ],
   "source": [
    "with open(\"day19_inp.dat\", \"r\") as f:\n",
    "    lines = f.readlines()\n",
    "    row, col = findstart(lines)\n",
    "    print(row, col)\n",
    "    down(lines, row, col)\n",
    "    print(row, col)"
   ]
  },
  {
   "cell_type": "code",
   "execution_count": null,
   "metadata": {},
   "outputs": [],
   "source": []
  },
  {
   "cell_type": "code",
   "execution_count": null,
   "metadata": {},
   "outputs": [],
   "source": []
  }
 ],
 "metadata": {
  "kernelspec": {
   "display_name": "Python 3",
   "language": "python",
   "name": "python3"
  },
  "language_info": {
   "codemirror_mode": {
    "name": "ipython",
    "version": 3
   },
   "file_extension": ".py",
   "mimetype": "text/x-python",
   "name": "python",
   "nbconvert_exporter": "python",
   "pygments_lexer": "ipython3",
   "version": "3.6.6"
  }
 },
 "nbformat": 4,
 "nbformat_minor": 2
}
