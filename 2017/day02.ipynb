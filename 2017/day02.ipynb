{
 "cells": [
  {
   "cell_type": "markdown",
   "metadata": {},
   "source": [
    "# Day 2: Corruption Checksum\n",
    "\n",
    "## Part One\n",
    "\n",
    "As you walk through the door, a glowing humanoid shape yells in your direction. \"You there! Your state appears to be idle. Come help us repair the corruption in this spreadsheet - if we take another millisecond, we'll have to display an hourglass cursor!\"\n",
    "\n",
    "The spreadsheet consists of rows of apparently-random numbers. To make sure the recovery process is on the right track, they need you to calculate the spreadsheet's checksum. For each row, determine the difference between the largest value and the smallest value; the checksum is the sum of all of these differences.\n",
    "\n",
    "For example, given the following spreadsheet:\n",
    "\n",
    "* 5 1 9 5\n",
    "* 7 5 3\n",
    "* 2 4 6 8\n",
    "\n",
    "The first row's largest and smallest values are 9 and 1, and their difference is 8.\n",
    "The second row's largest and smallest values are 7 and 3, and their difference is 4.\n",
    "The third row's difference is 6.\n",
    "In this example, the spreadsheet's checksum would be 8 + 4 + 6 = 18.\n",
    "\n",
    "What is the checksum for the spreadsheet in your puzzle input?"
   ]
  },
  {
   "cell_type": "code",
   "execution_count": 8,
   "metadata": {},
   "outputs": [],
   "source": [
    "import numpy as np"
   ]
  },
  {
   "cell_type": "code",
   "execution_count": 10,
   "metadata": {},
   "outputs": [
    {
     "data": {
      "text/plain": [
       "array([[1640.,  590.,   93.,  958.,   73., 1263., 1405., 1363.,  737.,\n",
       "         712., 1501.,  390.,   68., 1554.,  959.,   79.],\n",
       "       [4209.,  128.,  131., 2379., 2568., 2784., 2133.,  145., 3618.,\n",
       "        1274., 3875.,  158., 1506., 3455., 1621., 3799.],\n",
       "       [ 206., 1951., 2502., 2697., 2997.,   74.,   76.,   78., 1534.,\n",
       "          81., 2775., 2059., 3026.,   77., 2600., 3067.],\n",
       "       [ 373., 1661.,   94.,  102., 2219., 1967., 1856.,  417., 1594.,\n",
       "          75.,  100., 2251., 2200., 1825., 1291., 1021.],\n",
       "       [  57.,   72.,   51., 1101., 1303.,   60., 1227.,  421.,  970.,\n",
       "        1058.,  138.,  333., 1320., 1302.,  402., 1210.],\n",
       "       [4833., 5427.,  179., 3934., 4533., 5124., 4832., 2088.,   94.,\n",
       "         200.,  199., 1114., 4151., 1795.,  208., 3036.],\n",
       "       [ 759.,  876.,  110.,   79., 1656., 1691.,  185.,  544.,  616.,\n",
       "         312.,  757., 1712.,   92.,   97., 1513., 1683.],\n",
       "       [1250., 1186.,  284.,  107., 1190., 1233.,  573., 1181., 1041.,\n",
       "         655.,  132.,  547.,  395.,  146.,  119.,  515.],\n",
       "       [ 505., 1726.,   79.,  180.,   86., 1941., 1597., 1785., 1608.,\n",
       "        1692.,  968., 1177.,   94.,  184.,   91.,   31.],\n",
       "       [1366., 2053., 1820., 1570.,   70.,  506.,   53.,  415.,  717.,\n",
       "        1263.,   82.,  366.,   74., 1255., 2020., 1985.],\n",
       "       [2365., 5585., 2285., 4424., 5560., 3188., 3764.,  187.,   88.,\n",
       "         223., 1544., 5023., 4013., 5236.,  214.,  196.],\n",
       "       [1487., 1305., 1359., 1615., 6579., 2623., 4591.,  150., 5030.,\n",
       "         188.,  146., 4458., 5724., 5828., 1960.,  221.],\n",
       "       [3114.,  688., 3110.,  334., 1921.,  153., 4083.,  131., 2234.,\n",
       "        3556., 3573., 3764.,  127.,  919., 3293.,  104.],\n",
       "       [1008.,   78., 1196.,  607.,  135., 1409.,  296.,  475.,  915.,\n",
       "         157., 1419., 1304.,  153.,  423.,  163.,  704.],\n",
       "       [ 235., 4935., 4249., 3316., 1202.,  221., 1835.,  380.,  249.,\n",
       "        1108., 1922., 5607., 4255.,  238.,  211., 3973.],\n",
       "       [1738.,  207.,  179.,  137.,  226.,  907., 1468., 1341., 1582.,\n",
       "        1430.,  851.,  213.,  393., 1727., 1389.,  632.]])"
      ]
     },
     "execution_count": 10,
     "metadata": {},
     "output_type": "execute_result"
    }
   ],
   "source": [
    "dat = np.loadtxt(\"day02_inp.dat\")\n",
    "dat"
   ]
  },
  {
   "cell_type": "code",
   "execution_count": 11,
   "metadata": {},
   "outputs": [
    {
     "data": {
      "text/plain": [
       "array([1640., 4209., 3067., 2251., 1320., 5427., 1712., 1250., 1941.,\n",
       "       2053., 5585., 6579., 4083., 1419., 5607., 1738.])"
      ]
     },
     "execution_count": 11,
     "metadata": {},
     "output_type": "execute_result"
    }
   ],
   "source": [
    "m1 = np.max(dat, axis=1)\n",
    "m1"
   ]
  },
  {
   "cell_type": "code",
   "execution_count": 12,
   "metadata": {},
   "outputs": [
    {
     "data": {
      "text/plain": [
       "array([ 68., 128.,  74.,  75.,  51.,  94.,  79., 107.,  31.,  53.,  88.,\n",
       "       146., 104.,  78., 211., 137.])"
      ]
     },
     "execution_count": 12,
     "metadata": {},
     "output_type": "execute_result"
    }
   ],
   "source": [
    "m2 = np.min(dat, axis=1)\n",
    "m2"
   ]
  },
  {
   "cell_type": "code",
   "execution_count": 13,
   "metadata": {},
   "outputs": [
    {
     "data": {
      "text/plain": [
       "array([1572., 4081., 2993., 2176., 1269., 5333., 1633., 1143., 1910.,\n",
       "       2000., 5497., 6433., 3979., 1341., 5396., 1601.])"
      ]
     },
     "execution_count": 13,
     "metadata": {},
     "output_type": "execute_result"
    }
   ],
   "source": [
    "diff = m1 - m2\n",
    "diff"
   ]
  },
  {
   "cell_type": "code",
   "execution_count": 23,
   "metadata": {},
   "outputs": [
    {
     "name": "stdout",
     "output_type": "stream",
     "text": [
      "48357\n"
     ]
    }
   ],
   "source": [
    "s = np.sum(diff)\n",
    "print(\"{:d}\".format(int(s)))"
   ]
  },
  {
   "cell_type": "markdown",
   "metadata": {},
   "source": [
    "## Part Two\n",
    "\n",
    "\"Great work; looks like we're on the right track after all. Here's a star for your effort.\" However, the program seems a little worried. Can programs be worried?\n",
    "\n",
    "\"Based on what we're seeing, it looks like all the User wanted is some information about the evenly divisible values in the spreadsheet. Unfortunately, none of us are equipped for that kind of calculation - most of us specialize in bitwise operations.\"\n",
    "\n",
    "It sounds like the goal is to find the only two numbers in each row where one evenly divides the other - that is, where the result of the division operation is a whole number. They would like you to find those numbers on each line, divide them, and add up each line's result.\n",
    "\n",
    "For example, given the following spreadsheet:\n",
    "\n",
    "* 5 9 2 8\n",
    "* 9 4 7 3\n",
    "* 3 8 6 5\n",
    "\n",
    "In the first row, the only two numbers that evenly divide are 8 and 2; the result of this division is 4.\n",
    "In the second row, the two numbers are 9 and 3; the result is 3.\n",
    "In the third row, the result is 2.\n",
    "In this example, the sum of the results would be 4 + 3 + 2 = 9.\n",
    "\n",
    "What is the sum of each row's result in your puzzle input?"
   ]
  },
  {
   "cell_type": "code",
   "execution_count": 26,
   "metadata": {},
   "outputs": [],
   "source": [
    "def evenpair(X):\n",
    "    for i,x1 in enumerate(X):\n",
    "        for j,x2 in enumerate(X):\n",
    "            if (x1!=x2)&(x1%x2 == 0):\n",
    "                return x1/x2"
   ]
  },
  {
   "cell_type": "code",
   "execution_count": 46,
   "metadata": {},
   "outputs": [
    {
     "data": {
      "text/plain": [
       "351.0"
      ]
     },
     "execution_count": 46,
     "metadata": {},
     "output_type": "execute_result"
    }
   ],
   "source": [
    "np.sum(np.apply_along_axis(evenpair, axis=1, arr=dat))"
   ]
  },
  {
   "cell_type": "code",
   "execution_count": null,
   "metadata": {},
   "outputs": [],
   "source": []
  }
 ],
 "metadata": {
  "kernelspec": {
   "display_name": "Python 3",
   "language": "python",
   "name": "python3"
  },
  "language_info": {
   "codemirror_mode": {
    "name": "ipython",
    "version": 3
   },
   "file_extension": ".py",
   "mimetype": "text/x-python",
   "name": "python",
   "nbconvert_exporter": "python",
   "pygments_lexer": "ipython3",
   "version": "3.6.6"
  }
 },
 "nbformat": 4,
 "nbformat_minor": 2
}
