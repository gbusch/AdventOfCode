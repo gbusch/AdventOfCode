{
 "cells": [
  {
   "cell_type": "markdown",
   "metadata": {},
   "source": [
    "# Day 9: Stream Processing\n",
    "\n",
    "## Part One\n",
    "\n",
    "A large stream blocks your path. According to the locals, it's not safe to cross the stream at the moment because it's full of garbage. You look down at the stream; rather than water, you discover that it's a stream of characters.\n",
    "\n",
    "You sit for a while and record part of the stream (your puzzle input). The characters represent groups - sequences that begin with { and end with }. Within a group, there are zero or more other things, separated by commas: either another group or garbage. Since groups can contain other groups, a } only closes the most-recently-opened unclosed group - that is, they are nestable. Your puzzle input represents a single, large group which itself contains many smaller ones.\n",
    "\n",
    "Sometimes, instead of a group, you will find garbage. Garbage begins with < and ends with >. Between those angle brackets, almost any character can appear, including { and }. Within garbage, < has no special meaning.\n",
    "\n",
    "In a futile attempt to clean up the garbage, some program has canceled some of the characters within it using !: inside garbage, any character that comes after ! should be ignored, including <, >, and even another !.\n",
    "\n",
    "You don't see any characters that deviate from these rules. Outside garbage, you only find well-formed groups, and garbage always terminates according to the rules above.\n",
    "\n",
    "Here are some self-contained pieces of garbage:\n",
    "\n",
    "* <>, empty garbage.\n",
    "* <random characters>, garbage containing random characters.\n",
    "* <<<<>, because the extra < are ignored.\n",
    "* <{!>}>, because the first > is canceled.\n",
    "* <!!>, because the second ! is canceled, allowing the > to terminate the garbage.\n",
    "* <!!!>>, because the second ! and the first > are canceled.\n",
    "* <{o\"i!a,<{i<a>, which ends at the first >.\n",
    "\n",
    "Here are some examples of whole streams and the number of groups they contain:\n",
    "\n",
    "* {}, 1 group.\n",
    "* {{{}}}, 3 groups.\n",
    "* {{},{}}, also 3 groups.\n",
    "* {{{},{},{{}}}}, 6 groups.\n",
    "* {<{},{},{{}}>}, 1 group (which itself contains garbage).\n",
    "* {<a>,<a>,<a>,<a>}, 1 group.\n",
    "* {{<a>},{<a>},{<a>},{<a>}}, 5 groups.\n",
    "* {{<!>},{<!>},{<!>},{<a>}}, 2 groups (since all but the last > are canceled).\n",
    "\n",
    "Your goal is to find the total score for all groups in your input. Each group is assigned a score which is one more than the score of the group that immediately contains it. (The outermost group gets a score of 1.)\n",
    "\n",
    "* {}, score of 1.\n",
    "* {{{}}}, score of 1 + 2 + 3 = 6.\n",
    "* {{},{}}, score of 1 + 2 + 2 = 5.\n",
    "* {{{},{},{{}}}}, score of 1 + 2 + 3 + 3 + 3 + 4 = 16.\n",
    "* {<a>,<a>,<a>,<a>}, score of 1.\n",
    "* {{<ab>},{<ab>},{<ab>},{<ab>}}, score of 1 + 2 + 2 + 2 + 2 = 9.\n",
    "* {{<!!>},{<!!>},{<!!>},{<!!>}}, score of 1 + 2 + 2 + 2 + 2 = 9.\n",
    "* {{<a!>},{<a!>},{<a!>},{<ab>}}, score of 1 + 2 = 3.\n",
    "\n",
    "What is the total score for all groups in your input?"
   ]
  },
  {
   "cell_type": "code",
   "execution_count": 51,
   "metadata": {},
   "outputs": [
    {
     "name": "stdout",
     "output_type": "stream",
     "text": [
      "14421\n"
     ]
    }
   ],
   "source": [
    "score = 0\n",
    "opened = 0\n",
    "garbage = False\n",
    "neg = False\n",
    "\n",
    "with open('day09_inp.dat', 'r') as f:\n",
    "    stream = f.readline()\n",
    "    for s in stream:\n",
    "        if not neg:\n",
    "            if s is \"!\":\n",
    "                neg = True\n",
    "            elif s is \"<\":\n",
    "                garbage = True\n",
    "            elif (garbage == True) and s is \">\":\n",
    "                garbage = False\n",
    "            elif garbage == False:\n",
    "                if s is \"{\":\n",
    "                    opened += 1\n",
    "                elif (opened>0) and (s is \"}\"):\n",
    "                    score += opened\n",
    "                    opened -= 1\n",
    "        else:\n",
    "            neg = False\n",
    "        \n",
    "print(score)"
   ]
  },
  {
   "cell_type": "markdown",
   "metadata": {},
   "source": [
    "## Part Two\n",
    "\n",
    "Now, you're ready to remove the garbage.\n",
    "\n",
    "To prove you've removed it, you need to count all of the characters within the garbage. The leading and trailing < and > don't count, nor do any canceled characters or the ! doing the canceling.\n",
    "\n",
    "* <>, 0 characters.\n",
    "* <random characters>, 17 characters.\n",
    "* <<<<>, 3 characters.\n",
    "* <{!>}>, 2 characters.\n",
    "* <!!>, 0 characters.\n",
    "* <!!!>>, 0 characters.\n",
    "* <{o\"i!a,<{i<a>, 10 characters.\n",
    "\n",
    "How many non-canceled characters are within the garbage in your puzzle input?"
   ]
  },
  {
   "cell_type": "code",
   "execution_count": 59,
   "metadata": {},
   "outputs": [
    {
     "name": "stdout",
     "output_type": "stream",
     "text": [
      "6817\n"
     ]
    }
   ],
   "source": [
    "score = 0\n",
    "opened = 0\n",
    "garbage = False\n",
    "garbagelength = 0\n",
    "neg = False\n",
    "\n",
    "with open('day09_inp.dat', 'r') as f:\n",
    "    stream = f.readline()\n",
    "    for s in stream:\n",
    "        if not neg:\n",
    "            if s is \"!\":\n",
    "                neg = True\n",
    "            elif (garbage == False) and (s is \"<\"):\n",
    "                garbage = True\n",
    "            elif (garbage == True) and (s is not \">\"):\n",
    "                garbagelength += 1\n",
    "            elif (garbage == True) and (s is \">\"):\n",
    "                garbage = False\n",
    "            elif garbage == False:\n",
    "                if s is \"{\":\n",
    "                    opened += 1\n",
    "                elif (opened>0) and (s is \"}\"):\n",
    "                    score += opened\n",
    "                    opened -= 1\n",
    "        else:\n",
    "            neg = False\n",
    "        \n",
    "print(garbagelength)"
   ]
  },
  {
   "cell_type": "code",
   "execution_count": null,
   "metadata": {},
   "outputs": [],
   "source": []
  }
 ],
 "metadata": {
  "kernelspec": {
   "display_name": "Python 3",
   "language": "python",
   "name": "python3"
  },
  "language_info": {
   "codemirror_mode": {
    "name": "ipython",
    "version": 3
   },
   "file_extension": ".py",
   "mimetype": "text/x-python",
   "name": "python",
   "nbconvert_exporter": "python",
   "pygments_lexer": "ipython3",
   "version": "3.6.6"
  }
 },
 "nbformat": 4,
 "nbformat_minor": 2
}
