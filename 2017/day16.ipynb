{
 "cells": [
  {
   "cell_type": "markdown",
   "metadata": {},
   "source": [
    "# Day 16: Permutation Promenade\n",
    "\n",
    "## Part One\n",
    "\n",
    "You come upon a very unusual sight; a group of programs here appear to be dancing.\n",
    "\n",
    "There are sixteen programs in total, named a through p. They start by standing in a line: a stands in position 0, b stands in position 1, and so on until p, which stands in position 15.\n",
    "\n",
    "The programs' dance consists of a sequence of dance moves:\n",
    "\n",
    "Spin, written sX, makes X programs move from the end to the front, but maintain their order otherwise. (For example, s3 on abcde produces cdeab).\n",
    "Exchange, written xA/B, makes the programs at positions A and B swap places.\n",
    "Partner, written pA/B, makes the programs named A and B swap places.\n",
    "For example, with only five programs standing in a line (abcde), they could do the following dance:\n",
    "\n",
    "* s1, a spin of size 1: eabcd.\n",
    "* x3/4, swapping the last two programs: eabdc.\n",
    "* pe/b, swapping programs e and b: baedc.\n",
    "\n",
    "After finishing their dance, the programs end up in order baedc.\n",
    "\n",
    "You watch the dance for a while and record their dance moves (your puzzle input). In what order are the programs standing after their dance?"
   ]
  },
  {
   "cell_type": "code",
   "execution_count": 2,
   "metadata": {},
   "outputs": [],
   "source": [
    "import numpy as np"
   ]
  },
  {
   "cell_type": "code",
   "execution_count": 23,
   "metadata": {},
   "outputs": [],
   "source": [
    "def spin(s):\n",
    "    tmp1 = programs[-s:]\n",
    "    tmp2 = programs[:-s]\n",
    "    programs[:s] = tmp1\n",
    "    programs[s:] = tmp2"
   ]
  },
  {
   "cell_type": "code",
   "execution_count": 24,
   "metadata": {},
   "outputs": [],
   "source": [
    "def exchange(a, b):\n",
    "    tmp = programs[a]\n",
    "    programs[a] = programs[b]\n",
    "    programs[b] = tmp"
   ]
  },
  {
   "cell_type": "code",
   "execution_count": 25,
   "metadata": {},
   "outputs": [],
   "source": [
    "def partner(a, b):\n",
    "    inda, indb = programs.index(a), programs.index(b)\n",
    "    programs[inda] = b\n",
    "    programs[indb] = a"
   ]
  },
  {
   "cell_type": "code",
   "execution_count": 45,
   "metadata": {},
   "outputs": [
    {
     "data": {
      "text/plain": [
       "['a',\n",
       " 'b',\n",
       " 'c',\n",
       " 'd',\n",
       " 'e',\n",
       " 'f',\n",
       " 'g',\n",
       " 'h',\n",
       " 'i',\n",
       " 'j',\n",
       " 'k',\n",
       " 'l',\n",
       " 'm',\n",
       " 'n',\n",
       " 'o',\n",
       " 'p']"
      ]
     },
     "execution_count": 45,
     "metadata": {},
     "output_type": "execute_result"
    }
   ],
   "source": [
    "programs = list(map(chr, range(97, 97+16)))\n",
    "programs"
   ]
  },
  {
   "cell_type": "code",
   "execution_count": 46,
   "metadata": {},
   "outputs": [],
   "source": [
    "with open(\"day16_inp.dat\", \"r\") as f:\n",
    "    dance = f.readline()\n",
    "    moves = dance.split(',')\n",
    "    for move in moves:\n",
    "        if move[0] == \"s\":\n",
    "            spin(int(move[1:]))\n",
    "        elif move[0] == \"x\":\n",
    "            pos = move[1:].split('/')\n",
    "            exchange(int(pos[0]), int(pos[1]))\n",
    "        elif move[0] == \"p\":\n",
    "            progs = move[1:].split('/')\n",
    "            partner(progs[0], progs[1])\n",
    "        else:\n",
    "            print(\"move not found\")"
   ]
  },
  {
   "cell_type": "code",
   "execution_count": 47,
   "metadata": {},
   "outputs": [
    {
     "data": {
      "text/plain": [
       "['e',\n",
       " 'o',\n",
       " 'j',\n",
       " 'f',\n",
       " 'm',\n",
       " 'b',\n",
       " 'p',\n",
       " 'k',\n",
       " 'l',\n",
       " 'd',\n",
       " 'g',\n",
       " 'h',\n",
       " 'n',\n",
       " 'c',\n",
       " 'i',\n",
       " 'a']"
      ]
     },
     "execution_count": 47,
     "metadata": {},
     "output_type": "execute_result"
    }
   ],
   "source": [
    "programs"
   ]
  },
  {
   "cell_type": "code",
   "execution_count": 48,
   "metadata": {},
   "outputs": [
    {
     "data": {
      "text/plain": [
       "'eojfmbpkldghncia'"
      ]
     },
     "execution_count": 48,
     "metadata": {},
     "output_type": "execute_result"
    }
   ],
   "source": [
    "''.join(programs)"
   ]
  },
  {
   "cell_type": "markdown",
   "metadata": {},
   "source": [
    "## Part Two\n",
    "\n",
    "Now that you're starting to get a feel for the dance moves, you turn your attention to the dance as a whole.\n",
    "\n",
    "Keeping the positions they ended up in from their previous dance, the programs perform it again and again: including the first dance, a total of one billion (1000000000) times.\n",
    "\n",
    "In the example above, their second dance would begin with the order baedc, and use the same dance moves:\n",
    "\n",
    "* s1, a spin of size 1: cbaed.\n",
    "* x3/4, swapping the last two programs: cbade.\n",
    "* pe/b, swapping programs e and b: ceadb.\n",
    "\n",
    "In what order are the programs standing after their billion dances?"
   ]
  },
  {
   "cell_type": "markdown",
   "metadata": {},
   "source": [
    "Starting series is repeated after 48 steps. Therefore, we only have to run it 1000000000%48 times to find the final series"
   ]
  },
  {
   "cell_type": "code",
   "execution_count": 82,
   "metadata": {},
   "outputs": [
    {
     "name": "stdout",
     "output_type": "stream",
     "text": [
      "48 ['a', 'b', 'c', 'd', 'e', 'f', 'g', 'h', 'i', 'j', 'k', 'l', 'm', 'n', 'o', 'p']\n"
     ]
    }
   ],
   "source": [
    "programs = list(map(chr, range(97, 97+16)))\n",
    "cache = {0: programs[:]}\n",
    "\n",
    "with open(\"day16_inp.dat\", \"r\") as f:\n",
    "    dance = f.readline()\n",
    "    moves = dance.split(',')\n",
    "    for i in np.arange(1,200):\n",
    "        for move in moves:\n",
    "            if move[0] == \"s\":\n",
    "                spin(int(move[1:]))\n",
    "            elif move[0] == \"x\":\n",
    "                pos = move[1:].split('/')\n",
    "                exchange(int(pos[0]), int(pos[1]))\n",
    "            elif move[0] == \"p\":\n",
    "                progs = move[1:].split('/')\n",
    "                partner(progs[0], progs[1])\n",
    "            else:\n",
    "                print(\"move not found\")\n",
    "        if programs in cache.values(): \n",
    "            print(i, programs)\n",
    "            break\n",
    "        cache[i] = programs[:]"
   ]
  },
  {
   "cell_type": "code",
   "execution_count": 81,
   "metadata": {},
   "outputs": [
    {
     "data": {
      "text/plain": [
       "16"
      ]
     },
     "execution_count": 81,
     "metadata": {},
     "output_type": "execute_result"
    }
   ],
   "source": [
    "1000000000%48"
   ]
  },
  {
   "cell_type": "code",
   "execution_count": 83,
   "metadata": {},
   "outputs": [],
   "source": [
    "programs = list(map(chr, range(97, 97+16)))\n",
    "\n",
    "with open(\"day16_inp.dat\", \"r\") as f:\n",
    "    dance = f.readline()\n",
    "    moves = dance.split(',')\n",
    "    for i in np.arange(16):\n",
    "        for move in moves:\n",
    "            if move[0] == \"s\":\n",
    "                spin(int(move[1:]))\n",
    "            elif move[0] == \"x\":\n",
    "                pos = move[1:].split('/')\n",
    "                exchange(int(pos[0]), int(pos[1]))\n",
    "            elif move[0] == \"p\":\n",
    "                progs = move[1:].split('/')\n",
    "                partner(progs[0], progs[1])\n",
    "            else:\n",
    "                print(\"move not found\")"
   ]
  },
  {
   "cell_type": "code",
   "execution_count": 84,
   "metadata": {},
   "outputs": [
    {
     "data": {
      "text/plain": [
       "'iecopnahgdflmkjb'"
      ]
     },
     "execution_count": 84,
     "metadata": {},
     "output_type": "execute_result"
    }
   ],
   "source": [
    "''.join(programs)"
   ]
  },
  {
   "cell_type": "code",
   "execution_count": null,
   "metadata": {},
   "outputs": [],
   "source": []
  }
 ],
 "metadata": {
  "kernelspec": {
   "display_name": "Python 3",
   "language": "python",
   "name": "python3"
  },
  "language_info": {
   "codemirror_mode": {
    "name": "ipython",
    "version": 3
   },
   "file_extension": ".py",
   "mimetype": "text/x-python",
   "name": "python",
   "nbconvert_exporter": "python",
   "pygments_lexer": "ipython3",
   "version": "3.6.6"
  }
 },
 "nbformat": 4,
 "nbformat_minor": 2
}
