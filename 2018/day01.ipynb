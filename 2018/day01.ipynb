{
 "cells": [
  {
   "cell_type": "markdown",
   "metadata": {},
   "source": [
    "# Day 1: Chronal Calibration\n",
    "\n",
    "## Part One\n",
    "\n",
    "https://adventofcode.com/2018/day/1"
   ]
  },
  {
   "cell_type": "code",
   "execution_count": 5,
   "metadata": {},
   "outputs": [
    {
     "name": "stdout",
     "output_type": "stream",
     "text": [
      "484\n"
     ]
    }
   ],
   "source": [
    "with open(\"day01_inp.dat\", \"r\") as f:\n",
    "    deltas = f.readlines()\n",
    "    \n",
    "    frequ = 0\n",
    "    for d in deltas:\n",
    "        frequ += int(d)\n",
    "        \n",
    "print(frequ)"
   ]
  },
  {
   "cell_type": "markdown",
   "metadata": {},
   "source": [
    "## Part Two"
   ]
  },
  {
   "cell_type": "code",
   "execution_count": 22,
   "metadata": {},
   "outputs": [],
   "source": [
    "with open(\"day01_inp.dat\", \"r\") as f:\n",
    "    deltas = f.readlines()"
   ]
  },
  {
   "cell_type": "code",
   "execution_count": 26,
   "metadata": {},
   "outputs": [
    {
     "name": "stdout",
     "output_type": "stream",
     "text": [
      "367\n",
      "CPU times: user 1min 25s, sys: 181 ms, total: 1min 25s\n",
      "Wall time: 1min 25s\n"
     ]
    }
   ],
   "source": [
    "%%time\n",
    "\n",
    "cache = []\n",
    "frequ = 0\n",
    "cache.append(frequ)\n",
    "\n",
    "double = False\n",
    "while not double:\n",
    "    for d in deltas:\n",
    "        frequ += int(d)\n",
    "        if frequ not in cache:\n",
    "            cache.append(frequ)\n",
    "        else:\n",
    "            print(frequ)\n",
    "            double = True\n",
    "            break"
   ]
  },
  {
   "cell_type": "code",
   "execution_count": 31,
   "metadata": {},
   "outputs": [
    {
     "name": "stdout",
     "output_type": "stream",
     "text": [
      "367\n",
      "CPU times: user 57 ms, sys: 1.49 ms, total: 58.5 ms\n",
      "Wall time: 57.3 ms\n"
     ]
    }
   ],
   "source": [
    "%%time\n",
    "\n",
    "cache = set()\n",
    "frequ = 0\n",
    "cache.add(frequ)\n",
    "\n",
    "double = False\n",
    "while not double:\n",
    "    for d in deltas:\n",
    "        frequ += int(d)\n",
    "        if frequ not in cache:\n",
    "            cache.add(frequ)\n",
    "        else:\n",
    "            print(frequ)\n",
    "            double = True\n",
    "            break"
   ]
  },
  {
   "cell_type": "code",
   "execution_count": null,
   "metadata": {},
   "outputs": [],
   "source": []
  }
 ],
 "metadata": {
  "kernelspec": {
   "display_name": "Python 3",
   "language": "python",
   "name": "python3"
  },
  "language_info": {
   "codemirror_mode": {
    "name": "ipython",
    "version": 3
   },
   "file_extension": ".py",
   "mimetype": "text/x-python",
   "name": "python",
   "nbconvert_exporter": "python",
   "pygments_lexer": "ipython3",
   "version": "3.6.6"
  }
 },
 "nbformat": 4,
 "nbformat_minor": 2
}
