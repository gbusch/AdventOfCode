{
 "cells": [
  {
   "cell_type": "markdown",
   "metadata": {},
   "source": [
    "# Day 10: The Stars Align\n",
    "\n",
    "https://adventofcode.com/2018/day/10"
   ]
  },
  {
   "cell_type": "code",
   "execution_count": 265,
   "metadata": {},
   "outputs": [],
   "source": [
    "import matplotlib.pyplot as plt"
   ]
  },
  {
   "cell_type": "code",
   "execution_count": 266,
   "metadata": {},
   "outputs": [],
   "source": [
    "class Light(object):\n",
    "    def __init__(self, inp):\n",
    "        self.x1, self.x2 = [int(x) for x in inp.split(\"<\")[1].split(\">\")[0].split(\",\")]\n",
    "        self.v1, self.v2 = [int(x) for x in inp.split(\"<\")[2].split(\">\")[0].split(\",\")]\n",
    "    def step(self, deltat=1):\n",
    "        self.x1 = self.x1 + deltat * self.v1\n",
    "        self.x2 = self.x2 + deltat * self.v2"
   ]
  },
  {
   "cell_type": "code",
   "execution_count": 267,
   "metadata": {},
   "outputs": [],
   "source": [
    "class Lights(object):\n",
    "    def __init__(self, inpfile):\n",
    "        self.lights = []\n",
    "        with open(inpfile, \"r\") as f:\n",
    "            for line in f.readlines():\n",
    "                self.lights.append(Light(line))\n",
    "    def step(self, deltat=1):\n",
    "        for light in self.lights:\n",
    "            light.step(deltat)\n",
    "    def plot(self):\n",
    "        plt.figure()\n",
    "        for light in self.lights:\n",
    "            plt.plot(light.x1, -light.x2, 'ko')\n",
    "        plt.show()\n",
    "    def boxsize(self):\n",
    "        xval = [light.x1 for light in self.lights]\n",
    "        return max(xval) - min(xval)"
   ]
  },
  {
   "cell_type": "markdown",
   "metadata": {},
   "source": [
    "Playing around a bit with the plots, I realize that the points move to a common center and the plot gets narrower. After a long time, the plot becomes wider again. So I decide to monitor the width of the plot (difference between max and min of the x-coordinate) and look for the time where the plot has the lowest width."
   ]
  },
  {
   "cell_type": "code",
   "execution_count": 268,
   "metadata": {},
   "outputs": [],
   "source": [
    "a = Lights(\"day10_inp.dat\")"
   ]
  },
  {
   "cell_type": "code",
   "execution_count": 269,
   "metadata": {},
   "outputs": [],
   "source": [
    "size = 110000\n",
    "time = 0\n",
    "a.step(10930)\n",
    "for t in range(20):\n",
    "    a.step(1) \n",
    "    if a.boxsize() < size:\n",
    "        size = a.boxsize()\n",
    "        time = 10930+(t+1)*1"
   ]
  },
  {
   "cell_type": "code",
   "execution_count": 270,
   "metadata": {},
   "outputs": [
    {
     "name": "stdout",
     "output_type": "stream",
     "text": [
      "Solution for Part Two: 10942\n"
     ]
    }
   ],
   "source": [
    "print(\"Solution for Part Two: {}\".format(time))"
   ]
  },
  {
   "cell_type": "code",
   "execution_count": 271,
   "metadata": {},
   "outputs": [],
   "source": [
    "a = Lights(\"day10_inp.dat\")"
   ]
  },
  {
   "cell_type": "code",
   "execution_count": 272,
   "metadata": {},
   "outputs": [
    {
     "name": "stdout",
     "output_type": "stream",
     "text": [
      "Solution for Part One:\n"
     ]
    },
    {
     "data": {
      "image/png": "[encoded data removed]",
      "text/plain": [
       "<Figure size 432x288 with 1 Axes>"
      ]
     },
     "metadata": {
      "needs_background": "light"
     },
     "output_type": "display_data"
    }
   ],
   "source": [
    "print(\"Solution for Part One:\")\n",
    "a.step(10942)\n",
    "a.plot()"
   ]
  },
  {
   "cell_type": "code",
   "execution_count": null,
   "metadata": {},
   "outputs": [],
   "source": []
  }
 ],
 "metadata": {
  "kernelspec": {
   "display_name": "Python 3",
   "language": "python",
   "name": "python3"
  },
  "language_info": {
   "codemirror_mode": {
    "name": "ipython",
    "version": 3
   },
   "file_extension": ".py",
   "mimetype": "text/x-python",
   "name": "python",
   "nbconvert_exporter": "python",
   "pygments_lexer": "ipython3",
   "version": "3.6.6"
  }
 },
 "nbformat": 4,
 "nbformat_minor": 2
}
