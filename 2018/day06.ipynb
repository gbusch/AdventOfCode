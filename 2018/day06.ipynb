{
 "cells": [
  {
   "cell_type": "markdown",
   "metadata": {},
   "source": [
    "# Day 6: Chronal Coordinates\n",
    "\n",
    "https://adventofcode.com/2018/day/6"
   ]
  },
  {
   "cell_type": "code",
   "execution_count": 153,
   "metadata": {},
   "outputs": [],
   "source": [
    "import numpy as np\n",
    "from scipy.spatial.distance import cdist"
   ]
  },
  {
   "cell_type": "code",
   "execution_count": 154,
   "metadata": {},
   "outputs": [],
   "source": [
    "with open(\"day06_inp.dat\", \"r\") as f:\n",
    "    lines = f.readlines()\n",
    "    ref = []\n",
    "    for line in lines:\n",
    "        pos = line.split(\",\")\n",
    "        ref.append([int(pos[0].strip()), int(pos[1].strip())])"
   ]
  },
  {
   "cell_type": "code",
   "execution_count": 155,
   "metadata": {},
   "outputs": [
    {
     "data": {
      "text/plain": [
       "[[69, 102],\n",
       " [118, 274],\n",
       " [150, 269],\n",
       " [331, 284],\n",
       " [128, 302],\n",
       " [307, 192],\n",
       " [238, 52],\n",
       " [240, 339],\n",
       " [111, 127],\n",
       " [180, 156],\n",
       " [248, 265],\n",
       " [160, 69],\n",
       " [58, 136],\n",
       " [43, 235],\n",
       " [154, 202],\n",
       " [262, 189],\n",
       " [309, 53],\n",
       " [292, 67],\n",
       " [335, 198],\n",
       " [99, 199],\n",
       " [224, 120],\n",
       " [206, 313],\n",
       " [359, 352],\n",
       " [101, 147],\n",
       " [301, 47],\n",
       " [255, 347],\n",
       " [121, 153],\n",
       " [264, 343],\n",
       " [252, 225],\n",
       " [48, 90],\n",
       " [312, 139],\n",
       " [90, 277],\n",
       " [203, 227],\n",
       " [315, 328],\n",
       " [330, 81],\n",
       " [190, 191],\n",
       " [89, 296],\n",
       " [312, 255],\n",
       " [218, 181],\n",
       " [299, 149],\n",
       " [151, 254],\n",
       " [209, 212],\n",
       " [42, 76],\n",
       " [348, 183],\n",
       " [333, 227],\n",
       " [44, 210],\n",
       " [293, 356],\n",
       " [44, 132],\n",
       " [175, 77],\n",
       " [215, 109]]"
      ]
     },
     "execution_count": 155,
     "metadata": {},
     "output_type": "execute_result"
    }
   ],
   "source": [
    "ref"
   ]
  },
  {
   "cell_type": "code",
   "execution_count": 156,
   "metadata": {},
   "outputs": [],
   "source": [
    "m = np.max(ref)+1"
   ]
  },
  {
   "cell_type": "code",
   "execution_count": 157,
   "metadata": {},
   "outputs": [],
   "source": [
    "grid = np.array([[x,y] for x in range(m) for y in range(m)])"
   ]
  },
  {
   "cell_type": "code",
   "execution_count": 158,
   "metadata": {},
   "outputs": [],
   "source": [
    "dist = cdist(ref, grid, 'cityblock')"
   ]
  },
  {
   "cell_type": "code",
   "execution_count": 159,
   "metadata": {},
   "outputs": [],
   "source": [
    "def my_argmin(X):\n",
    "    argmin = np.argmin(X, axis=0).astype(float)\n",
    "    mult = np.sum(X == np.min(X, axis=0), axis=0) > 1\n",
    "    argmin[mult] = np.nan\n",
    "    return argmin"
   ]
  },
  {
   "cell_type": "code",
   "execution_count": 160,
   "metadata": {},
   "outputs": [
    {
     "data": {
      "text/plain": [
       "array([[42., 42., 42., ..., 16., 16., 16.],\n",
       "       [42., 42., 42., ..., 16., 16., 16.],\n",
       "       [42., 42., 42., ..., 16., 16., 16.],\n",
       "       ...,\n",
       "       [36., 36., 36., ..., 22., 22., 22.],\n",
       "       [36., 36., 36., ..., 22., 22., 22.],\n",
       "       [36., 36., 36., ..., 22., 22., 22.]])"
      ]
     },
     "execution_count": 160,
     "metadata": {},
     "output_type": "execute_result"
    }
   ],
   "source": [
    "distmat = my_argmin(dist).reshape(m,m).transpose()\n",
    "distmat"
   ]
  },
  {
   "cell_type": "markdown",
   "metadata": {},
   "source": [
    "## Part One"
   ]
  },
  {
   "cell_type": "code",
   "execution_count": 161,
   "metadata": {},
   "outputs": [],
   "source": [
    "border = np.unique(np.concatenate((distmat[0,:], distmat[-1,:], distmat[:,0], distmat[:,-1])))\n",
    "notborder = [n for n in np.unique(distmat) if not n in border]"
   ]
  },
  {
   "cell_type": "code",
   "execution_count": 162,
   "metadata": {},
   "outputs": [],
   "source": [
    "maxarea = 0\n",
    "for n in notborder:\n",
    "    area = np.sum(distmat == n)\n",
    "    if area > maxarea:\n",
    "        maxarea = area"
   ]
  },
  {
   "cell_type": "code",
   "execution_count": 163,
   "metadata": {},
   "outputs": [
    {
     "name": "stdout",
     "output_type": "stream",
     "text": [
      "Solution for Part One: 3276\n"
     ]
    }
   ],
   "source": [
    "print(\"Solution for Part One: {}\".format(maxarea))"
   ]
  },
  {
   "cell_type": "markdown",
   "metadata": {},
   "source": [
    "## Part Two"
   ]
  },
  {
   "cell_type": "code",
   "execution_count": 164,
   "metadata": {},
   "outputs": [
    {
     "name": "stdout",
     "output_type": "stream",
     "text": [
      "Solution for Part Two: 38380\n"
     ]
    }
   ],
   "source": [
    "print(\"Solution for Part Two: {}\".format(np.sum(np.nansum(dist, axis=0) < 10000)))"
   ]
  },
  {
   "cell_type": "code",
   "execution_count": null,
   "metadata": {},
   "outputs": [],
   "source": []
  }
 ],
 "metadata": {
  "kernelspec": {
   "display_name": "Python 3",
   "language": "python",
   "name": "python3"
  },
  "language_info": {
   "codemirror_mode": {
    "name": "ipython",
    "version": 3
   },
   "file_extension": ".py",
   "mimetype": "text/x-python",
   "name": "python",
   "nbconvert_exporter": "python",
   "pygments_lexer": "ipython3",
   "version": "3.6.6"
  }
 },
 "nbformat": 4,
 "nbformat_minor": 2
}
