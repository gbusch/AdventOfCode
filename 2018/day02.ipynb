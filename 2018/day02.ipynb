{
 "cells": [
  {
   "cell_type": "markdown",
   "metadata": {},
   "source": [
    "# Day 2: Inventory Management System\n",
    "\n",
    "## Part One\n",
    "\n",
    "https://adventofcode.com/2018/day/2"
   ]
  },
  {
   "cell_type": "code",
   "execution_count": 5,
   "metadata": {},
   "outputs": [],
   "source": [
    "with open(\"day02_inp.dat\", \"r\") as f:\n",
    "    words = f.readlines()\n",
    "    double = 0\n",
    "    triple = 0\n",
    "    for word in words:\n",
    "        letters = {}\n",
    "        for letter in word:\n",
    "            if letter in letters:\n",
    "                letters[letter] += 1\n",
    "            else:\n",
    "                letters[letter] = 1\n",
    "        double0 = 0\n",
    "        triple0 = 0\n",
    "        for k,v in letters.items():\n",
    "            if v == 2:\n",
    "                double0 = 1\n",
    "            if v == 3:\n",
    "                triple0 = 1\n",
    "        double += double0\n",
    "        triple += triple0"
   ]
  },
  {
   "cell_type": "code",
   "execution_count": 6,
   "metadata": {},
   "outputs": [
    {
     "data": {
      "text/plain": [
       "3952"
      ]
     },
     "execution_count": 6,
     "metadata": {},
     "output_type": "execute_result"
    }
   ],
   "source": [
    "double*triple"
   ]
  },
  {
   "cell_type": "markdown",
   "metadata": {},
   "source": [
    "## Part Two"
   ]
  },
  {
   "cell_type": "code",
   "execution_count": 26,
   "metadata": {},
   "outputs": [],
   "source": [
    "with open(\"day02_inp.dat\", \"r\") as f:\n",
    "    words = f.read().splitlines()\n",
    "    mostcommon = None\n",
    "    mostcommonlen = 0\n",
    "    for w1, word1 in enumerate(words):\n",
    "        for w2, word2 in enumerate(words[w1+1:]):\n",
    "            common = []\n",
    "            for l in range(len(word1)):\n",
    "                if word1[l] == word2[l]: common.append(word1[l])\n",
    "            if len(common) > mostcommonlen:\n",
    "                mostcommon = common\n",
    "                mostcommonlen = len(common)"
   ]
  },
  {
   "cell_type": "code",
   "execution_count": 27,
   "metadata": {},
   "outputs": [
    {
     "data": {
      "text/plain": [
       "'vtnikorkulbfejvyznqgdxpaw'"
      ]
     },
     "execution_count": 27,
     "metadata": {},
     "output_type": "execute_result"
    }
   ],
   "source": [
    "''.join(mostcommon)"
   ]
  },
  {
   "cell_type": "code",
   "execution_count": null,
   "metadata": {},
   "outputs": [],
   "source": []
  }
 ],
 "metadata": {
  "kernelspec": {
   "display_name": "Python 3",
   "language": "python",
   "name": "python3"
  },
  "language_info": {
   "codemirror_mode": {
    "name": "ipython",
    "version": 3
   },
   "file_extension": ".py",
   "mimetype": "text/x-python",
   "name": "python",
   "nbconvert_exporter": "python",
   "pygments_lexer": "ipython3",
   "version": "3.6.6"
  }
 },
 "nbformat": 4,
 "nbformat_minor": 2
}
