{
 "cells": [
  {
   "cell_type": "markdown",
   "metadata": {},
   "source": [
    "# Day 4: Repose Record\n",
    "\n",
    "https://adventofcode.com/2018/day/4"
   ]
  },
  {
   "cell_type": "code",
   "execution_count": 77,
   "metadata": {},
   "outputs": [],
   "source": [
    "from datetime import datetime\n",
    "import numpy as np\n",
    "from collections import Counter"
   ]
  },
  {
   "cell_type": "code",
   "execution_count": 78,
   "metadata": {},
   "outputs": [],
   "source": [
    "times = {}\n",
    "\n",
    "with open(\"day04_inp.dat\", \"r\") as f:\n",
    "    lines = f.readlines()\n",
    "    for line in lines:\n",
    "        timestamp = line.split(']')[0][1:]\n",
    "        action = line.split(']')[1].strip().split(\" \")[1]\n",
    "        timestamp = datetime.strptime(timestamp, \"%Y-%m-%d %H:%M\")\n",
    "        times[timestamp] = action"
   ]
  },
  {
   "cell_type": "code",
   "execution_count": 79,
   "metadata": {},
   "outputs": [],
   "source": [
    "asleep = {}\n",
    "onduty = None\n",
    "start = None\n",
    "end = None\n",
    "\n",
    "for k in sorted(times.keys()):\n",
    "    if times[k].startswith(\"#\"):\n",
    "        onduty = int(times[k][1:])\n",
    "        if onduty not in asleep: asleep[onduty] = []\n",
    "    elif times[k] == \"asleep\":\n",
    "        start = k.minute\n",
    "    elif times [k] == \"up\":\n",
    "        end = k.minute\n",
    "        asleep[onduty].append(np.arange(start, end))"
   ]
  },
  {
   "cell_type": "code",
   "execution_count": 95,
   "metadata": {},
   "outputs": [],
   "source": [
    "sleeplength = {}\n",
    "mostsleptmin = {}\n",
    "longestsleep = 0\n",
    "longestsleeper = None\n",
    "for k in asleep:\n",
    "    l = []\n",
    "    for s in asleep[k]:\n",
    "        l += list(s)\n",
    "    try: \n",
    "        most_common, most_common_num = Counter(l).most_common(1)[0]\n",
    "    except:\n",
    "        most_common = None\n",
    "        most_common_num = 0\n",
    "    sleeplength[k] = len(l)\n",
    "    mostsleptmin[k] = (most_common, most_common_num)\n",
    "    if len(l) > longestsleep:\n",
    "        longestsleep = len(l)\n",
    "        longestsleeper = k"
   ]
  },
  {
   "cell_type": "markdown",
   "metadata": {},
   "source": [
    "## Part One"
   ]
  },
  {
   "cell_type": "code",
   "execution_count": 97,
   "metadata": {},
   "outputs": [
    {
     "data": {
      "text/plain": [
       "1523"
      ]
     },
     "execution_count": 97,
     "metadata": {},
     "output_type": "execute_result"
    }
   ],
   "source": [
    "longestsleeper"
   ]
  },
  {
   "cell_type": "code",
   "execution_count": 98,
   "metadata": {},
   "outputs": [
    {
     "data": {
      "text/plain": [
       "{2707: (33, 14),\n",
       " 523: (18, 10),\n",
       " 2081: (36, 6),\n",
       " 89: (21, 6),\n",
       " 2003: (54, 9),\n",
       " 1171: (19, 8),\n",
       " 1409: (36, 10),\n",
       " 1523: (43, 14),\n",
       " 3373: (44, 4),\n",
       " 1069: (34, 12),\n",
       " 1607: (31, 15),\n",
       " 1789: (19, 6),\n",
       " 107: (36, 16),\n",
       " 2287: (48, 8),\n",
       " 3469: (28, 10),\n",
       " 1087: (None, 0),\n",
       " 1439: (44, 8),\n",
       " 2857: (52, 9),\n",
       " 2069: (54, 6),\n",
       " 2399: (31, 7),\n",
       " 1627: (35, 8),\n",
       " 2657: (None, 0),\n",
       " 1787: (None, 0)}"
      ]
     },
     "execution_count": 98,
     "metadata": {},
     "output_type": "execute_result"
    }
   ],
   "source": [
    "mostsleptmin"
   ]
  },
  {
   "cell_type": "code",
   "execution_count": 106,
   "metadata": {},
   "outputs": [
    {
     "name": "stdout",
     "output_type": "stream",
     "text": [
      "Solution for Part One: 65489\n"
     ]
    }
   ],
   "source": [
    "print(\"Solution for Part One: {}\".format(longestsleeper * mostsleptmin[longestsleeper][0]))"
   ]
  },
  {
   "cell_type": "markdown",
   "metadata": {},
   "source": [
    "## Part Two"
   ]
  },
  {
   "cell_type": "code",
   "execution_count": 102,
   "metadata": {},
   "outputs": [],
   "source": [
    "most_min = None\n",
    "most_occ = 0\n",
    "most_guard = None\n",
    "for k,v in mostsleptmin.items():\n",
    "    if v[1] > most_occ:\n",
    "        most_occ = v[1]\n",
    "        most_min = v[0]\n",
    "        most_guard = k"
   ]
  },
  {
   "cell_type": "code",
   "execution_count": 107,
   "metadata": {},
   "outputs": [
    {
     "name": "stdout",
     "output_type": "stream",
     "text": [
      "Solution for Part Two: 3852\n"
     ]
    }
   ],
   "source": [
    "print(\"Solution for Part Two: {}\".format(most_guard * most_min))"
   ]
  },
  {
   "cell_type": "code",
   "execution_count": null,
   "metadata": {},
   "outputs": [],
   "source": []
  }
 ],
 "metadata": {
  "kernelspec": {
   "display_name": "Python 3",
   "language": "python",
   "name": "python3"
  },
  "language_info": {
   "codemirror_mode": {
    "name": "ipython",
    "version": 3
   },
   "file_extension": ".py",
   "mimetype": "text/x-python",
   "name": "python",
   "nbconvert_exporter": "python",
   "pygments_lexer": "ipython3",
   "version": "3.6.6"
  }
 },
 "nbformat": 4,
 "nbformat_minor": 2
}
