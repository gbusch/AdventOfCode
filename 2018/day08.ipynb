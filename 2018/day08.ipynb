{
 "cells": [
  {
   "cell_type": "markdown",
   "metadata": {},
   "source": [
    "# Day 8: Memory Maneuver\n",
    "\n",
    "https://adventofcode.com/2018/day/8"
   ]
  },
  {
   "cell_type": "code",
   "execution_count": 104,
   "metadata": {},
   "outputs": [],
   "source": [
    "import numpy as np"
   ]
  },
  {
   "cell_type": "code",
   "execution_count": 105,
   "metadata": {},
   "outputs": [
    {
     "name": "stdout",
     "output_type": "stream",
     "text": [
      "[ 8 11  7 ...  5  6  8]\n"
     ]
    }
   ],
   "source": [
    "with open(\"day08_inp.dat\", \"r\") as f:\n",
    "    arr = np.array(f.readline().strip().split(\" \")).astype(int)\n",
    "    print(arr)"
   ]
  },
  {
   "cell_type": "markdown",
   "metadata": {},
   "source": [
    "## Part One"
   ]
  },
  {
   "cell_type": "code",
   "execution_count": 106,
   "metadata": {},
   "outputs": [],
   "source": [
    "def get_meta(arr):\n",
    "    global i\n",
    "    nchildren = arr[i]\n",
    "    nmeta = arr[i+1]\n",
    "    i += 2\n",
    "    for child in range(nchildren):\n",
    "        yield from get_meta(arr)\n",
    "    for meta in range(nmeta):\n",
    "        yield arr[i]\n",
    "        i += 1"
   ]
  },
  {
   "cell_type": "code",
   "execution_count": 107,
   "metadata": {},
   "outputs": [],
   "source": [
    "i = 0\n",
    "meta = list(get_meta(arr))"
   ]
  },
  {
   "cell_type": "code",
   "execution_count": 108,
   "metadata": {},
   "outputs": [
    {
     "name": "stdout",
     "output_type": "stream",
     "text": [
      "Solution for Part One: 43996\n"
     ]
    }
   ],
   "source": [
    "print(\"Solution for Part One: {}\".format(np.sum(meta)))"
   ]
  },
  {
   "cell_type": "markdown",
   "metadata": {},
   "source": [
    "## Part Two"
   ]
  },
  {
   "cell_type": "code",
   "execution_count": 109,
   "metadata": {},
   "outputs": [],
   "source": [
    "def get_meta(arr):\n",
    "    global i\n",
    "    nchildren = arr[i]\n",
    "    nmeta = arr[i+1]\n",
    "    i += 2\n",
    "    childdata = []\n",
    "    for child in range(nchildren):\n",
    "        childdata.append(get_meta(arr))\n",
    "    metasum = []\n",
    "    for meta in range(nmeta):\n",
    "        metasum.append(arr[i])\n",
    "        i += 1\n",
    "    if nchildren == 0:\n",
    "        return np.sum(metasum)\n",
    "    else:\n",
    "        noderes = 0\n",
    "        for m in metasum:\n",
    "            if m <= len(childdata): \n",
    "                noderes += childdata[m-1]\n",
    "        return noderes"
   ]
  },
  {
   "cell_type": "code",
   "execution_count": 110,
   "metadata": {},
   "outputs": [
    {
     "name": "stdout",
     "output_type": "stream",
     "text": [
      "Solution for Part Two: 35189\n"
     ]
    }
   ],
   "source": [
    "i = 0\n",
    "print(\"Solution for Part Two: {}\".format(get_meta(arr)))"
   ]
  },
  {
   "cell_type": "code",
   "execution_count": null,
   "metadata": {},
   "outputs": [],
   "source": []
  },
  {
   "cell_type": "code",
   "execution_count": null,
   "metadata": {},
   "outputs": [],
   "source": []
  }
 ],
 "metadata": {
  "kernelspec": {
   "display_name": "Python 3",
   "language": "python",
   "name": "python3"
  },
  "language_info": {
   "codemirror_mode": {
    "name": "ipython",
    "version": 3
   },
   "file_extension": ".py",
   "mimetype": "text/x-python",
   "name": "python",
   "nbconvert_exporter": "python",
   "pygments_lexer": "ipython3",
   "version": "3.6.6"
  }
 },
 "nbformat": 4,
 "nbformat_minor": 2
}
