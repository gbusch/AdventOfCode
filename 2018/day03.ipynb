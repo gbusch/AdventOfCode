{
 "cells": [
  {
   "cell_type": "markdown",
   "metadata": {},
   "source": [
    "# Day 3: No Matter How You Slice It\n",
    "\n",
    "https://adventofcode.com/2018/day/3"
   ]
  },
  {
   "cell_type": "code",
   "execution_count": 58,
   "metadata": {},
   "outputs": [],
   "source": [
    "import re"
   ]
  },
  {
   "cell_type": "code",
   "execution_count": 96,
   "metadata": {},
   "outputs": [],
   "source": [
    "# dictionary with areas covered by each claim\n",
    "\n",
    "areas = {}\n",
    "\n",
    "with open(\"day03_inp.dat\", \"r\") as f:\n",
    "    lines = f.readlines()\n",
    "    p = re.compile(r\"\\d+\")\n",
    "    for line in lines:\n",
    "        no, c1, c2, w, h = [int(x) for x in p.findall(line)]\n",
    "        areas[no] = {(x+c1,y+c2) for x in range(w) for y in range(h)}"
   ]
  },
  {
   "cell_type": "code",
   "execution_count": 97,
   "metadata": {},
   "outputs": [],
   "source": [
    "# dictionary which counts how often each part of the grid is claimed\n",
    "\n",
    "grid = {}\n",
    "\n",
    "with open(\"day03_inp.dat\", \"r\") as f:\n",
    "    lines = f.readlines()\n",
    "    p = re.compile(r\"\\d+\")\n",
    "    for line in lines:\n",
    "        no, c1, c2, w, h = [int(x) for x in p.findall(line)]\n",
    "        for x in range(w):\n",
    "            for y in range(h):\n",
    "                if (c1+x, c2+y) not in grid:\n",
    "                    grid[(c1+x, c2+y)] = 1\n",
    "                else:\n",
    "                    grid[(c1+x, c2+y)] += 1"
   ]
  },
  {
   "cell_type": "markdown",
   "metadata": {},
   "source": [
    "## Part One"
   ]
  },
  {
   "cell_type": "code",
   "execution_count": 98,
   "metadata": {},
   "outputs": [],
   "source": [
    "double = 0\n",
    "for k,v in grid.items():\n",
    "    if v>1: double += 1"
   ]
  },
  {
   "cell_type": "code",
   "execution_count": 99,
   "metadata": {},
   "outputs": [
    {
     "name": "stdout",
     "output_type": "stream",
     "text": [
      "Solution for Part One: 110891\n"
     ]
    }
   ],
   "source": [
    "print(\"Solution for Part One: {}\".format(double))"
   ]
  },
  {
   "cell_type": "markdown",
   "metadata": {},
   "source": [
    "## Part Two"
   ]
  },
  {
   "cell_type": "code",
   "execution_count": 100,
   "metadata": {},
   "outputs": [],
   "source": [
    "nooverlap = set()\n",
    "for k,v in grid.items():\n",
    "    if v == 1:\n",
    "        nooverlap.add(k)"
   ]
  },
  {
   "cell_type": "code",
   "execution_count": 101,
   "metadata": {},
   "outputs": [
    {
     "name": "stdout",
     "output_type": "stream",
     "text": [
      "Solution for Part Two: 297\n"
     ]
    }
   ],
   "source": [
    "for k in areas.keys():\n",
    "    if areas[k].intersection(nooverlap) == areas[k]: \n",
    "        print(\"Solution for Part Two: {}\".format(k))"
   ]
  },
  {
   "cell_type": "code",
   "execution_count": null,
   "metadata": {},
   "outputs": [],
   "source": []
  }
 ],
 "metadata": {
  "kernelspec": {
   "display_name": "Python 3",
   "language": "python",
   "name": "python3"
  },
  "language_info": {
   "codemirror_mode": {
    "name": "ipython",
    "version": 3
   },
   "file_extension": ".py",
   "mimetype": "text/x-python",
   "name": "python",
   "nbconvert_exporter": "python",
   "pygments_lexer": "ipython3",
   "version": "3.6.6"
  }
 },
 "nbformat": 4,
 "nbformat_minor": 2
}
