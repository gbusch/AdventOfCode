{
 "cells": [
  {
   "cell_type": "markdown",
   "metadata": {},
   "source": [
    "# Day 9: Marble Mania\n",
    "\n",
    "https://adventofcode.com/2018/day/9"
   ]
  },
  {
   "cell_type": "code",
   "execution_count": 79,
   "metadata": {},
   "outputs": [],
   "source": [
    "import numpy as np"
   ]
  },
  {
   "cell_type": "markdown",
   "metadata": {},
   "source": [
    "## Part One\n",
    "\n",
    "Using normal list."
   ]
  },
  {
   "cell_type": "code",
   "execution_count": 80,
   "metadata": {},
   "outputs": [
    {
     "name": "stdout",
     "output_type": "stream",
     "text": [
      "CPU times: user 614 ms, sys: 25.8 ms, total: 639 ms\n",
      "Wall time: 639 ms\n"
     ]
    }
   ],
   "source": [
    "%%time\n",
    "\n",
    "noplayer = 405\n",
    "points = {k: 0 for k in np.arange(noplayer)}\n",
    "\n",
    "stones = [0]\n",
    "active = 0\n",
    "\n",
    "lastmarble = 71700\n",
    "\n",
    "for stone in np.arange(1,lastmarble+1):\n",
    "    if not stone%23 == 0:\n",
    "        newpos = (active + 2)%len(stones)\n",
    "        if not newpos == 0:\n",
    "            stones.insert(newpos, stone)\n",
    "            active = newpos\n",
    "        else:\n",
    "            stones.append(stone)\n",
    "            active = len(stones)-1\n",
    "    else:\n",
    "        newpos = (active - 7)%len(stones)\n",
    "        player = stone%noplayer\n",
    "        points[player] += stone\n",
    "        points[player] += stones.pop(newpos)\n",
    "        active = newpos"
   ]
  },
  {
   "cell_type": "code",
   "execution_count": 81,
   "metadata": {},
   "outputs": [
    {
     "name": "stdout",
     "output_type": "stream",
     "text": [
      "Solution for Part One: 428690\n"
     ]
    }
   ],
   "source": [
    "print(\"Solution for Part One: {}\".format(np.max(list(points.values()))))"
   ]
  },
  {
   "cell_type": "markdown",
   "metadata": {},
   "source": [
    "## Part Two\n",
    "\n",
    "Using deque object."
   ]
  },
  {
   "cell_type": "code",
   "execution_count": 82,
   "metadata": {},
   "outputs": [],
   "source": [
    "from collections import deque"
   ]
  },
  {
   "cell_type": "code",
   "execution_count": 83,
   "metadata": {},
   "outputs": [
    {
     "name": "stdout",
     "output_type": "stream",
     "text": [
      "CPU times: user 4.29 s, sys: 87.2 ms, total: 4.38 s\n",
      "Wall time: 4.39 s\n"
     ]
    }
   ],
   "source": [
    "%%time\n",
    "\n",
    "noplayer = 405\n",
    "points = {k: 0 for k in np.arange(noplayer)}\n",
    "\n",
    "stones = deque((0,))\n",
    "\n",
    "lastmarble = 71700*100\n",
    "\n",
    "for stone in np.arange(1,lastmarble+1):\n",
    "    if not stone%23 == 0:\n",
    "        stones.rotate(-1)\n",
    "        stones.append(stone)\n",
    "    else:\n",
    "        stones.rotate(7)\n",
    "        player = stone%noplayer\n",
    "        points[player] += stone + stones.pop()\n",
    "        stones.rotate(-1)"
   ]
  },
  {
   "cell_type": "code",
   "execution_count": 84,
   "metadata": {},
   "outputs": [
    {
     "name": "stdout",
     "output_type": "stream",
     "text": [
      "Solution for Part Two: 3628143500\n"
     ]
    }
   ],
   "source": [
    "print(\"Solution for Part Two: {}\".format(np.max(list(points.values()))))"
   ]
  },
  {
   "cell_type": "code",
   "execution_count": null,
   "metadata": {},
   "outputs": [],
   "source": []
  }
 ],
 "metadata": {
  "kernelspec": {
   "display_name": "Python 3",
   "language": "python",
   "name": "python3"
  },
  "language_info": {
   "codemirror_mode": {
    "name": "ipython",
    "version": 3
   },
   "file_extension": ".py",
   "mimetype": "text/x-python",
   "name": "python",
   "nbconvert_exporter": "python",
   "pygments_lexer": "ipython3",
   "version": "3.6.6"
  }
 },
 "nbformat": 4,
 "nbformat_minor": 2
}
