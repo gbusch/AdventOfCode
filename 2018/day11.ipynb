{
 "cells": [
  {
   "cell_type": "markdown",
   "metadata": {},
   "source": [
    "# Day 11: Chronal Charge\n",
    "\n",
    "https://adventofcode.com/2018/day/11"
   ]
  },
  {
   "cell_type": "code",
   "execution_count": 34,
   "metadata": {},
   "outputs": [],
   "source": [
    "import numpy as np\n",
    "from astropy.convolution import convolve, Box2DKernel"
   ]
  },
  {
   "cell_type": "code",
   "execution_count": 141,
   "metadata": {},
   "outputs": [],
   "source": [
    "sernum = 4172\n",
    "grid = lambda x,y: int(((x+10) * y + sernum) * (x+10) /100)%10 - 5"
   ]
  },
  {
   "cell_type": "code",
   "execution_count": 142,
   "metadata": {},
   "outputs": [],
   "source": [
    "summedarea = {}\n",
    "for x in np.arange(1,301):\n",
    "    for y in np.arange(1,301):\n",
    "        summedarea[(x,y)] = grid(x,y) + summedarea.get((x,y-1),0) + summedarea.get((x-1,y),0) - summedarea.get((x-1,y-1),0)"
   ]
  },
  {
   "cell_type": "markdown",
   "metadata": {},
   "source": [
    "## Part One"
   ]
  },
  {
   "cell_type": "code",
   "execution_count": 143,
   "metadata": {},
   "outputs": [],
   "source": [
    "boxsize = 3"
   ]
  },
  {
   "cell_type": "code",
   "execution_count": 144,
   "metadata": {},
   "outputs": [],
   "source": [
    "smoothedmax = 0\n",
    "maxpos = None\n",
    "for x in np.arange(1,301-boxsize):\n",
    "    for y in np.arange(1,301-boxsize):\n",
    "        A = (x,y)\n",
    "        B = (x+boxsize,y)\n",
    "        C = (x,y+boxsize)\n",
    "        D = (x+boxsize,y+boxsize)\n",
    "        i = summedarea.get(A,0) + summedarea.get(D,0) - summedarea.get(B,0) - summedarea.get(C,0)\n",
    "        if i > smoothedmax:\n",
    "            smoothedmax = i\n",
    "            maxpos = (x+1,y+1)"
   ]
  },
  {
   "cell_type": "code",
   "execution_count": 158,
   "metadata": {},
   "outputs": [
    {
     "name": "stdout",
     "output_type": "stream",
     "text": [
      "Solution for Part One: 236,151\n"
     ]
    }
   ],
   "source": [
    "print(\"Solution for Part One: {},{}\".format(maxpos[0], maxpos[1]))"
   ]
  },
  {
   "cell_type": "markdown",
   "metadata": {},
   "source": [
    "## Part Two"
   ]
  },
  {
   "cell_type": "code",
   "execution_count": 148,
   "metadata": {},
   "outputs": [],
   "source": [
    "smoothedmax = 0\n",
    "maxpos = None\n",
    "maxboxsize = None\n",
    "\n",
    "for boxsize in np.arange(1,301):\n",
    "    for x in np.arange(1,301-boxsize):\n",
    "        for y in np.arange(1,301-boxsize):\n",
    "            A = (x,y)\n",
    "            B = (x+boxsize,y)\n",
    "            C = (x,y+boxsize)\n",
    "            D = (x+boxsize,y+boxsize)\n",
    "            i = summedarea.get(A,0) + summedarea.get(D,0) - summedarea.get(B,0) - summedarea.get(C,0)\n",
    "            if i > smoothedmax:\n",
    "                smoothedmax = i\n",
    "                maxpos = (x+1,y+1)\n",
    "                maxboxsize = boxsize"
   ]
  },
  {
   "cell_type": "code",
   "execution_count": 159,
   "metadata": {},
   "outputs": [
    {
     "name": "stdout",
     "output_type": "stream",
     "text": [
      "Solution for Part Two: 236,151,15\n"
     ]
    }
   ],
   "source": [
    "print(\"Solution for Part Two: {},{},{}\".format(maxpos[0], maxpos[1], maxboxsize))"
   ]
  },
  {
   "cell_type": "code",
   "execution_count": null,
   "metadata": {},
   "outputs": [],
   "source": []
  }
 ],
 "metadata": {
  "kernelspec": {
   "display_name": "Python 3",
   "language": "python",
   "name": "python3"
  },
  "language_info": {
   "codemirror_mode": {
    "name": "ipython",
    "version": 3
   },
   "file_extension": ".py",
   "mimetype": "text/x-python",
   "name": "python",
   "nbconvert_exporter": "python",
   "pygments_lexer": "ipython3",
   "version": "3.6.6"
  }
 },
 "nbformat": 4,
 "nbformat_minor": 2
}
