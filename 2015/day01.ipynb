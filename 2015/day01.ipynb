{
 "cells": [
  {
   "cell_type": "markdown",
   "metadata": {},
   "source": [
    "# Day 1: Not Quite Lisp\n",
    "\n",
    "https://adventofcode.com/2015/day/1"
   ]
  },
  {
   "cell_type": "code",
   "execution_count": 21,
   "metadata": {},
   "outputs": [],
   "source": [
    "with open(\"day01_inp.dat\", \"r\") as f:\n",
    "    instruction = f.readline()"
   ]
  },
  {
   "cell_type": "markdown",
   "metadata": {},
   "source": [
    "## Part One"
   ]
  },
  {
   "cell_type": "code",
   "execution_count": 22,
   "metadata": {},
   "outputs": [],
   "source": [
    "floor = 0\n",
    "for step in instruction:\n",
    "    if step == \"(\":\n",
    "        floor += 1\n",
    "    elif step == \")\":\n",
    "        floor -= 1\n",
    "    else:\n",
    "        print(\"Error\")"
   ]
  },
  {
   "cell_type": "code",
   "execution_count": 23,
   "metadata": {},
   "outputs": [
    {
     "name": "stdout",
     "output_type": "stream",
     "text": [
      "Solution for Part One: 74\n"
     ]
    }
   ],
   "source": [
    "print(\"Solution for Part One: {}\".format(floor))"
   ]
  },
  {
   "cell_type": "markdown",
   "metadata": {},
   "source": [
    "## Part Two"
   ]
  },
  {
   "cell_type": "code",
   "execution_count": 24,
   "metadata": {},
   "outputs": [
    {
     "name": "stdout",
     "output_type": "stream",
     "text": [
      "Solution for Part Two: 1795\n"
     ]
    }
   ],
   "source": [
    "floor = 0\n",
    "for i,step in enumerate(instruction):\n",
    "    if step == \"(\":\n",
    "        floor += 1\n",
    "    elif step == \")\":\n",
    "        floor -= 1\n",
    "    else:\n",
    "        print(\"Error\")\n",
    "    if floor == -1:\n",
    "        print(\"Solution for Part Two: {}\".format(i+1))\n",
    "        break"
   ]
  },
  {
   "cell_type": "code",
   "execution_count": null,
   "metadata": {},
   "outputs": [],
   "source": []
  }
 ],
 "metadata": {
  "kernelspec": {
   "display_name": "Python 3",
   "language": "python",
   "name": "python3"
  },
  "language_info": {
   "codemirror_mode": {
    "name": "ipython",
    "version": 3
   },
   "file_extension": ".py",
   "mimetype": "text/x-python",
   "name": "python",
   "nbconvert_exporter": "python",
   "pygments_lexer": "ipython3",
   "version": "3.6.6"
  }
 },
 "nbformat": 4,
 "nbformat_minor": 2
}
